{
 "cells": [
  {
   "cell_type": "markdown",
   "metadata": {
    "deletable": false,
    "editable": false,
    "id": "-quIuV1QQ5Fg",
    "nbgrader": {
     "cell_type": "markdown",
     "checksum": "58b719258049bcd9a3739deffeaa6d80",
     "grade": false,
     "grade_id": "cell-9995d325f17152b9",
     "locked": true,
     "schema_version": 3,
     "solution": false
    }
   },
   "source": [
    "# Introduction to Data Science and Systems 2023-2024<small><small>v20232024a</small></small>\n",
    "## Lab 3: Introduction to Probability\n",
    "#### - ***you should submit this notebook on Moodle along with one pdf file (see the end of the notebook and Moodle for instructions)***\n",
    "---\n",
    "#### University of Glasgow,  JHW (amended by BSJ and NP) 2023\n",
    "\n",
    "$$\n",
    "\\newcommand{\\vec}[1]{ {\\bf #1}} \n",
    "\\newcommand{\\real}{\\mathbb{R}}\n",
    "\\DeclareMathOperator*{\\argmin}{arg\\,min}\n",
    "\\newcommand{\\expect}[1]{\\mathbb{E}[#1]}\n",
    "$$"
   ]
  },
  {
   "cell_type": "markdown",
   "metadata": {
    "deletable": false,
    "editable": false,
    "id": "kyp8qn_PQ5Fi",
    "nbgrader": {
     "cell_type": "markdown",
     "checksum": "ce6cf5ba2458b6046b681b9530b116fb",
     "grade": false,
     "grade_id": "cell-32f2e0771a121341",
     "locked": true,
     "schema_version": 3,
     "solution": false
    }
   },
   "source": [
    "## Purpose of this lab\n",
    "\n",
    "This lab should help you:    \n",
    "* understand basic probability including probability mass functions and probability density functions\n",
    "* understand how to manipulate marginal, joint and conditional distributions\n",
    "* understand Bayes' rule\n",
    "* understand the multivariate normal distribution\n",
    "* understand how optimisation can be used to estimate parameters in a simple statistical model using maximum likelihood estimation\n"
   ]
  },
  {
   "cell_type": "markdown",
   "metadata": {
    "deletable": false,
    "editable": false,
    "id": "XwYYKGdZQ5Fi",
    "nbgrader": {
     "cell_type": "markdown",
     "checksum": "bdc69ac75bc8a26f6d2f7f418275e755",
     "grade": false,
     "grade_id": "cell-6d43c939c4565afd",
     "locked": true,
     "schema_version": 3,
     "solution": false
    }
   },
   "source": [
    "## Guide\n",
    "\n",
    "Lab 3 is structured as follows (with two main task sections):\n",
    "\n",
    ">- Part 1: Probability with discrete random variables\n",
    ">- Part 2: Probability with continuous random variables\n",
    "\n",
    "We recommend you read through the lab *carefully* and work through the tasks.\n",
    "\n",
    "#### Material and resources \n",
    "- It is recommended to keep the lecture notes (from lectures 5 and 6 in particular) open while doing this lab exercise. \n",
    "    * ... and you should, of course, be prepared to access some of the recommended material.\n",
    "\n",
    "#### Marking and Feedback\n",
    "This assessed lab is marked using three different techniques;\n",
    "\n",
    "- Autograded with feedback; you'll get immediate feedback.\n",
    "- Autograded without (immediate) feedback (there will always be a small demo/test so you can be confident that the format of your answer is correct).\n",
    "\n",
    "*Note*: auto-graded results are always provisional and subject to change in case there are significant issues (this will usually be in favour of the student).\n",
    "\n",
    "#### Help \\& Assistance\n",
    "- This lab is graded and the lab assistants/lecturer can provide guidance, but we can (and will) not give you the final answer or confirm your result.\n",
    "\n",
    "#### Plagiarism\n",
    "- All submissions will be automatically compared against each other to make sure your submission represents an independent piece of work! We have provided a few checks to make sure that is indeed the case.\n"
   ]
  },
  {
   "cell_type": "markdown",
   "metadata": {
    "deletable": false,
    "editable": false,
    "id": "kyzu30zLQ5Fj",
    "nbgrader": {
     "cell_type": "markdown",
     "checksum": "0b2e2a1761d3efc6db64024246fa675a",
     "grade": false,
     "grade_id": "cell-1a7888fb396d7174",
     "locked": true,
     "schema_version": 3,
     "solution": false,
     "task": false
    }
   },
   "source": [
    "---"
   ]
  },
  {
   "cell_type": "markdown",
   "metadata": {
    "deletable": false,
    "editable": false,
    "id": "l6kDidGsQ5Fj",
    "nbgrader": {
     "cell_type": "markdown",
     "checksum": "00e41a7884cb08b52fa6715eee99af3e",
     "grade": false,
     "grade_id": "cell-fbd04ff8405b65d7",
     "locked": true,
     "schema_version": 3,
     "solution": false,
     "task": false
    }
   },
   "source": [
    "# Before you begin\n",
    "\n",
    "Please update the tools we use for the automated greading by running the below command (uncomment) and restart your kernel (and then uncomment again) -- or simply perform the installation externally in an Anaconda/Python prompt."
   ]
  },
  {
   "cell_type": "code",
   "execution_count": null,
   "metadata": {
    "colab": {
     "base_uri": "https://localhost:8080/",
     "height": 759
    },
    "id": "oYY0INy6Q5Fk",
    "outputId": "a27468f3-9903-49a6-e437-d8048c98e0a8"
   },
   "outputs": [],
   "source": [
    "#!pip install -U --force-reinstall --no-cache https://github.com/johnhw/jhwutils/zipball/master\n",
    "\n",
    "# the following will allow you to downlad the data files you need (that are otherwise in the zip file)\n",
    "# you can comment this line after the first run. \n",
    "#!pip install wget\n",
    "#!wget https://github.com/pugeault/IDSS2023-24/raw/main/lab3-files.zip\n",
    "#!unzip lab4-files.zip"
   ]
  },
  {
   "cell_type": "markdown",
   "metadata": {
    "deletable": false,
    "editable": false,
    "id": "P8ZBkQz4Q5Fk",
    "nbgrader": {
     "cell_type": "markdown",
     "checksum": "f6aa9a44340f444ce37509367fa6d375",
     "grade": false,
     "grade_id": "cell-9efb6bee11cc9c63",
     "locked": true,
     "schema_version": 3,
     "solution": false,
     "task": false
    }
   },
   "source": [
    "Import the basics..."
   ]
  },
  {
   "cell_type": "code",
   "execution_count": null,
   "metadata": {
    "colab": {
     "base_uri": "https://localhost:8080/"
    },
    "deletable": false,
    "editable": false,
    "id": "wm_GBKb2Q5Fl",
    "nbgrader": {
     "cell_type": "code",
     "checksum": "bd891bbcd2bd807a5bc1b509dddcd771",
     "grade": false,
     "grade_id": "cell-91d14d912b66f5d1",
     "locked": true,
     "schema_version": 3,
     "solution": false,
     "task": false
    },
    "outputId": "d9445e8e-a4ff-4cc7-f454-c98f882eeed7"
   },
   "outputs": [],
   "source": [
    "# Standard imports\n",
    "# Make sure you run this cell!\n",
    "from __future__ import print_function, division\n",
    "import numpy as np  # NumPy\n",
    "import scipy.stats \n",
    "import os\n",
    "import sys\n",
    "import binascii\n",
    "from unittest.mock import patch\n",
    "from uuid import getnode as get_mac\n",
    "\n",
    "from jhwutils.checkarr import array_hash, check_hash, check_scalar, check_string\n",
    "import jhwutils.image_audio as ia\n",
    "import jhwutils.tick as tick\n",
    "\n",
    "###\n",
    "tick.reset_marks()\n",
    "\n",
    "# special hash funciton\n",
    "def case_crc(s, verbose=True):\n",
    "    h_crc = binascii.crc32(bytes(s.lower(), 'ascii'))\n",
    "    if verbose:\n",
    "        print(h_crc)\n",
    "    return h_crc\n",
    "\n",
    "# this command generaties a unique key for your system/computer/account\n",
    "uuid_simple = ((\"%s\") % get_mac())\n",
    "uuid_str = (\"%s\\n%s\\n%s\\n%s\\n%s\\n\") % (os.path,sys.path,sys.version,sys.version_info,get_mac())\n",
    "uuid_system = case_crc(uuid_str,verbose=False) \n",
    "\n",
    "# Set up Matplotlib\n",
    "import matplotlib as mpl   \n",
    "import matplotlib.pyplot as plt\n",
    "%matplotlib inline\n",
    "plt.rc('figure', figsize=(8.0, 4.0), dpi=140)\n",
    "np.random.seed(2023)\n"
   ]
  },
  {
   "cell_type": "code",
   "execution_count": null,
   "metadata": {
    "deletable": false,
    "editable": false,
    "id": "tl9FFNjcQ5Fm",
    "nbgrader": {
     "cell_type": "code",
     "checksum": "e46a494577565c6dc3c0ef7e5b643c9d",
     "grade": true,
     "grade_id": "cell-0f5367ef948a09e5",
     "locked": true,
     "points": 0,
     "schema_version": 3,
     "solution": false
    }
   },
   "outputs": [],
   "source": [
    "# Hidden cell for utils needed when grading (you can/should not edit this)"
   ]
  },
  {
   "cell_type": "markdown",
   "metadata": {
    "deletable": false,
    "editable": false,
    "id": "HVuv8NV0Q5Fm",
    "nbgrader": {
     "cell_type": "markdown",
     "checksum": "d91a931e2c7011e41b73aab2dde05029",
     "grade": false,
     "grade_id": "cell-379cb3567ee95fa6",
     "locked": true,
     "schema_version": 3,
     "solution": false,
     "task": false
    }
   },
   "source": [
    "---"
   ]
  },
  {
   "cell_type": "markdown",
   "metadata": {
    "deletable": false,
    "editable": false,
    "id": "_SAQCPi9Q5Fm",
    "nbgrader": {
     "cell_type": "markdown",
     "checksum": "dec9268b4d9bcf8c0dc45c4725ad4fa6",
     "grade": false,
     "grade_id": "cell-81b8a494524a0965",
     "locked": true,
     "schema_version": 3,
     "solution": false
    }
   },
   "source": [
    "**Mini-task**: provide your personal details in two variables:\n",
    "\n",
    "* `student_id` : a string containing your student id (e.g. \"1234567x\"), must be 8 chars long.\n",
    "* `student_typewritten_signature`: a string with your name (e.g. \"Adam Smith\") which serves as a declaration that this is your own work (read the declaration of originality when you submit on Moodle)."
   ]
  },
  {
   "cell_type": "code",
   "execution_count": null,
   "metadata": {
    "deletable": false,
    "id": "IR47LgA9Q5Fn",
    "nbgrader": {
     "cell_type": "code",
     "checksum": "79516e854a4c26e66e29570ea98645e6",
     "grade": false,
     "grade_id": "cell-093ae1eb980af8c9",
     "locked": false,
     "schema_version": 3,
     "solution": true
    }
   },
   "outputs": [],
   "source": [
    "student_id = \"\" # your 8 char student id\n",
    "student_typewritten_signature = \"\" # your full name, avoid spceical chars if possible\n",
    "\n",
    "# YOUR CODE HERE\n",
    "raise NotImplementedError()"
   ]
  },
  {
   "cell_type": "markdown",
   "metadata": {
    "deletable": false,
    "editable": false,
    "id": "ZhhIDc0qQ5Fn",
    "nbgrader": {
     "cell_type": "markdown",
     "checksum": "440cf24055c8a4dfdc5d9915dfd6b9d4",
     "grade": false,
     "grade_id": "cell-495cf4744eaf248e",
     "locked": true,
     "schema_version": 3,
     "solution": false,
     "task": false
    }
   },
   "source": [
    "---"
   ]
  },
  {
   "cell_type": "markdown",
   "metadata": {
    "deletable": false,
    "editable": false,
    "id": "N8xMkOkCQ5Fn",
    "nbgrader": {
     "cell_type": "markdown",
     "checksum": "82995aecc83b8843b10e948e8849d64b",
     "grade": false,
     "grade_id": "cell-1b5361f4252c5577",
     "locked": true,
     "schema_version": 3,
     "solution": false,
     "task": false
    }
   },
   "source": [
    "## Part 1. Hunt the submarine - gridworld version\n",
    "\n",
    "The USS Scorpion has been lost at sea. Your job is to model where it might be probabilistically. \n",
    "\n",
    "<img src=\"imgs/scorpion.jpg\" width=\"50%\">\n",
    "\n",
    "In part 1 of this lab, we will assume that our world is divided into a 2D grid of squares, each of which might contain an errant submarine.\n",
    "\n",
    "<img src=\"imgs/sea_grid.png\" width=\"50%\">\n",
    "\n",
    "### Part 1 Random variables, outcomes and events\n",
    "\n",
    "We assume that the submarine's location is given by a random variable $X$ whose sample space is the space of 2D grid points $\\vec{x}=[x,y]$ where $x$ and $y$ are integers in the range 0-15 (inclusive). (Be careful: the `x,y` order is the opposite of the `row, column` format used in images).\n",
    "\n",
    "You are given a probability mass function as a 16x16 matrix `submarine_pmf` giving the probability of each grid square, i.e $f_X(\\vec{x}) = P(X=\\vec{x})$. \n"
   ]
  },
  {
   "cell_type": "code",
   "execution_count": null,
   "metadata": {
    "colab": {
     "base_uri": "https://localhost:8080/",
     "height": 527
    },
    "deletable": false,
    "editable": false,
    "id": "EiOvA037Q5Fn",
    "nbgrader": {
     "cell_type": "code",
     "checksum": "fc1e7ce0e6b8d6aaf7f044d16b83c47b",
     "grade": false,
     "grade_id": "cell-b3f39fc6a4871aaa",
     "locked": true,
     "schema_version": 3,
     "solution": false,
     "task": false
    },
    "outputId": "9f31ac34-a1e1-4bc9-8d88-0a7d3d1e5d5c"
   },
   "outputs": [],
   "source": [
    "# import submarine data and functions\n",
    "from submarine import submarine_pmf, show_pmf\n",
    "\n",
    "show_pmf(submarine_pmf) # show the PMF on top of a map"
   ]
  },
  {
   "cell_type": "markdown",
   "metadata": {
    "deletable": false,
    "editable": false,
    "id": "glyGvxa-Q5Fo",
    "nbgrader": {
     "cell_type": "markdown",
     "checksum": "622a5e665322adb42d4197f301f9b318",
     "grade": false,
     "grade_id": "cell-92f8d9fb001931d7",
     "locked": true,
     "schema_version": 3,
     "solution": false,
     "task": false
    }
   },
   "source": [
    "### Outcomes and events\n",
    "Compute the the following values, all of which are scalars. The notation $[x_1, y_1] \\rightarrow [x_2, y_2]$ indicates a box that should **include** $x_1,y_1,x_2,y_2$ (be careful!).\n",
    "\n",
    "* `in_6_2` probability submarine is in square $[6,2]$\n",
    "* `out_5_5` probability submarine is *not* in square $[5,5]$\n",
    "* `west_4` submarine is in square $[x\\geq 4, y]$\n",
    "* `y_div_3` submarine has a y coordinate exactly divisible by 3\n",
    "* `below_above` submarine is in square $[x,y<4] or [x,y\\geq 10]$\n",
    "* `box_1` submarine is in the box $[3, 4] \\rightarrow [5, 6]$ (inclusive!)\n",
    "* `box_2` submarine is in the box $[0, 0] \\rightarrow [15, 15]$ (inclusive!)\n",
    "* `evens` submarine has $x\\geq 4$ and an *even* y coordinate\n",
    "* `odds_not_box` the *odds* that the submarine is *not* in the box $[2, 4] \\rightarrow [6,10]$\n",
    "* `odds_even` the *odds* that the submarine has an x coordinate which is *even*\n",
    "* `logit_4_6` the *log-odds (logits)* that the submarine is in square $[4, 6]$\n",
    "* `dlogit_box` the *change* in log-odds from the hypothesis that the submarine is in the box $[1,1] \\rightarrow [5, 5]$ to being in the box $[10,10] \\rightarrow [15,15]$\n",
    "\n"
   ]
  },
  {
   "cell_type": "code",
   "execution_count": null,
   "metadata": {
    "deletable": false,
    "id": "2tB1UN8SQ5Fo",
    "nbgrader": {
     "cell_type": "code",
     "checksum": "3dbea37409e4d0be7d5ed312570780fe",
     "grade": false,
     "grade_id": "cell-41106ec676d94892",
     "locked": false,
     "schema_version": 3,
     "solution": true
    }
   },
   "outputs": [],
   "source": [
    "# YOUR CODE HERE\n",
    "raise NotImplementedError()"
   ]
  },
  {
   "cell_type": "code",
   "execution_count": null,
   "metadata": {
    "colab": {
     "base_uri": "https://localhost:8080/",
     "height": 0
    },
    "deletable": false,
    "editable": false,
    "id": "j4fnhfODQ5Fo",
    "nbgrader": {
     "cell_type": "code",
     "checksum": "8820596d4c4dc251cf0bd07bb38d0866",
     "grade": true,
     "grade_id": "cell-3e19a44175a7d2c5",
     "locked": true,
     "points": 1,
     "schema_version": 3,
     "solution": false
    },
    "outputId": "aae4ba27-d9f0-4812-ec75-d8ac0128f3cf"
   },
   "outputs": [],
   "source": [
    "with tick.marks(1):\n",
    "    assert check_scalar(in_6_2, '0x98d4201e')\n"
   ]
  },
  {
   "cell_type": "code",
   "execution_count": null,
   "metadata": {
    "colab": {
     "base_uri": "https://localhost:8080/",
     "height": 0
    },
    "deletable": false,
    "editable": false,
    "id": "WFG8r7n-Q5Fp",
    "nbgrader": {
     "cell_type": "code",
     "checksum": "a9dce9e3ce61518f8afb8096d21fb1cc",
     "grade": true,
     "grade_id": "cell-49e6daa2a4db5e6e",
     "locked": true,
     "points": 1,
     "schema_version": 3,
     "solution": false
    },
    "outputId": "23c26738-c571-47a7-aea2-71792b5ca65f"
   },
   "outputs": [],
   "source": [
    "with tick.marks(1):\n",
    "    assert check_scalar(out_5_5, '0xddb3de98')"
   ]
  },
  {
   "cell_type": "code",
   "execution_count": null,
   "metadata": {
    "colab": {
     "base_uri": "https://localhost:8080/",
     "height": 0
    },
    "deletable": false,
    "editable": false,
    "id": "LxddsDwoQ5Fp",
    "nbgrader": {
     "cell_type": "code",
     "checksum": "d7d7e199d9acb38a9f747844bc05d13e",
     "grade": true,
     "grade_id": "cell-6c4bcb3424997256",
     "locked": true,
     "points": 1,
     "schema_version": 3,
     "solution": false
    },
    "outputId": "1544a620-8f5c-4343-a92b-11f10ea3f571"
   },
   "outputs": [],
   "source": [
    "with tick.marks(1):\n",
    "    assert check_scalar(west_4, '0x1d40485b')"
   ]
  },
  {
   "cell_type": "code",
   "execution_count": null,
   "metadata": {
    "colab": {
     "base_uri": "https://localhost:8080/",
     "height": 0
    },
    "deletable": false,
    "editable": false,
    "id": "T9wbU1k_Q5Fp",
    "nbgrader": {
     "cell_type": "code",
     "checksum": "4dba679dd2164c87231e9587703f47d1",
     "grade": true,
     "grade_id": "cell-449cdcdde72d4636",
     "locked": true,
     "points": 1,
     "schema_version": 3,
     "solution": false
    },
    "outputId": "4be30820-a9f4-4685-9e07-4a64fd737878"
   },
   "outputs": [],
   "source": [
    "with tick.marks(1):\n",
    "    assert check_scalar(y_div_3, '0xdaa43a7a')"
   ]
  },
  {
   "cell_type": "code",
   "execution_count": null,
   "metadata": {
    "colab": {
     "base_uri": "https://localhost:8080/",
     "height": 0
    },
    "deletable": false,
    "editable": false,
    "id": "fXBDVUrsQ5Fq",
    "nbgrader": {
     "cell_type": "code",
     "checksum": "75276789b9319cb5f5eb713c54dbcf48",
     "grade": true,
     "grade_id": "cell-65e1e770299d2850",
     "locked": true,
     "points": 1,
     "schema_version": 3,
     "solution": false
    },
    "outputId": "307efcef-f81a-4fe4-cea1-cf58e0b3798e"
   },
   "outputs": [],
   "source": [
    "with tick.marks(1):\n",
    "    assert check_scalar(below_above, '0xdbedd8bb')"
   ]
  },
  {
   "cell_type": "code",
   "execution_count": null,
   "metadata": {
    "colab": {
     "base_uri": "https://localhost:8080/",
     "height": 0
    },
    "deletable": false,
    "editable": false,
    "id": "XhCTsJeVQ5Fq",
    "nbgrader": {
     "cell_type": "code",
     "checksum": "aecc32597fe15866ed12e47e928c2db4",
     "grade": true,
     "grade_id": "cell-d69384fde03ee57c",
     "locked": true,
     "points": 1,
     "schema_version": 3,
     "solution": false
    },
    "outputId": "80d15206-386d-4809-eb71-130ad5906143"
   },
   "outputs": [],
   "source": [
    "with tick.marks(1):\n",
    "    assert check_scalar(box_1, '0x64edb4c9')"
   ]
  },
  {
   "cell_type": "code",
   "execution_count": null,
   "metadata": {
    "colab": {
     "base_uri": "https://localhost:8080/",
     "height": 0
    },
    "deletable": false,
    "editable": false,
    "id": "vT3p4LH1Q5Fq",
    "nbgrader": {
     "cell_type": "code",
     "checksum": "fc5d327e4bcfdc1cfe32391918925f53",
     "grade": true,
     "grade_id": "cell-ae064acca843bc9a",
     "locked": true,
     "points": 1,
     "schema_version": 3,
     "solution": false
    },
    "outputId": "45df5cbc-213c-4478-9dac-1d6857a8003c"
   },
   "outputs": [],
   "source": [
    "with tick.marks(1):\n",
    "    assert check_scalar(box_2, '0xb44c37ea')"
   ]
  },
  {
   "cell_type": "code",
   "execution_count": null,
   "metadata": {
    "colab": {
     "base_uri": "https://localhost:8080/",
     "height": 0
    },
    "deletable": false,
    "editable": false,
    "id": "oMWJkz9mQ5Fr",
    "nbgrader": {
     "cell_type": "code",
     "checksum": "6e490d96c0221352da80b472ba98c0be",
     "grade": true,
     "grade_id": "cell-239da7740b58e982",
     "locked": true,
     "points": 1,
     "schema_version": 3,
     "solution": false
    },
    "outputId": "00576c07-825c-47a1-a3f3-8a22beb0f2dc"
   },
   "outputs": [],
   "source": [
    "with tick.marks(1):\n",
    "    assert check_scalar(evens, '0xe040e314')"
   ]
  },
  {
   "cell_type": "code",
   "execution_count": null,
   "metadata": {
    "colab": {
     "base_uri": "https://localhost:8080/",
     "height": 0
    },
    "deletable": false,
    "editable": false,
    "id": "N4R6AtYQQ5Fr",
    "nbgrader": {
     "cell_type": "code",
     "checksum": "7bcfc576c07b91ec9610bd3eea5bb456",
     "grade": true,
     "grade_id": "cell-0180f6e4e69313d0",
     "locked": true,
     "points": 1,
     "schema_version": 3,
     "solution": false
    },
    "outputId": "32834e06-6a54-4ccb-9579-4d46d8dd01de"
   },
   "outputs": [],
   "source": [
    "with tick.marks(1):\n",
    "    assert (check_scalar(odds_not_box, '0xccfc0501'))\n",
    "    "
   ]
  },
  {
   "cell_type": "code",
   "execution_count": null,
   "metadata": {
    "colab": {
     "base_uri": "https://localhost:8080/",
     "height": 0
    },
    "deletable": false,
    "editable": false,
    "id": "CEklVUYIQ5Fr",
    "nbgrader": {
     "cell_type": "code",
     "checksum": "d8e69d1552c3bfb195613a05aa6c40bc",
     "grade": true,
     "grade_id": "cell-87b66bcf48a47746",
     "locked": true,
     "points": 1,
     "schema_version": 3,
     "solution": false
    },
    "outputId": "2e4a227c-a8ed-4b20-c578-9685c8f269d0"
   },
   "outputs": [],
   "source": [
    "## Hidden test checking odds_even [1 marks]"
   ]
  },
  {
   "cell_type": "code",
   "execution_count": null,
   "metadata": {
    "colab": {
     "base_uri": "https://localhost:8080/",
     "height": 0
    },
    "deletable": false,
    "editable": false,
    "id": "CyD8NqHZQ5Fr",
    "nbgrader": {
     "cell_type": "code",
     "checksum": "3abcc9129599c08768a977c94cf433ce",
     "grade": true,
     "grade_id": "cell-69018b2a114b0c15",
     "locked": true,
     "points": 1,
     "schema_version": 3,
     "solution": false
    },
    "outputId": "ef7feab7-42de-41a5-a96a-6cfc209e850a"
   },
   "outputs": [],
   "source": [
    "with tick.marks(1):\n",
    "    assert (check_scalar(logit_4_6, '0x2e63d2e9'))\n"
   ]
  },
  {
   "cell_type": "code",
   "execution_count": null,
   "metadata": {
    "colab": {
     "base_uri": "https://localhost:8080/",
     "height": 0
    },
    "deletable": false,
    "editable": false,
    "id": "1GpPvyixQ5Fs",
    "nbgrader": {
     "cell_type": "code",
     "checksum": "1a5eeb1e6dfb6afabc24e55726078bdb",
     "grade": true,
     "grade_id": "cell-5d334060a8b0827a",
     "locked": true,
     "points": 2,
     "schema_version": 3,
     "solution": false
    },
    "outputId": "b2861d02-db30-4c7f-95da-582803ace767"
   },
   "outputs": [],
   "source": [
    "# Hidden test checking dlogit_box [2 marks]"
   ]
  },
  {
   "cell_type": "markdown",
   "metadata": {
    "deletable": false,
    "editable": false,
    "id": "H7sSJy-zQ5Fs",
    "nbgrader": {
     "cell_type": "markdown",
     "checksum": "684a0ca5b205acf102cac5fb99764062",
     "grade": false,
     "grade_id": "cell-d7ecce4468ab771a",
     "locked": true,
     "schema_version": 3,
     "solution": false,
     "task": false
    }
   },
   "source": [
    "---"
   ]
  },
  {
   "cell_type": "markdown",
   "metadata": {
    "deletable": false,
    "editable": false,
    "id": "qe7YF11mQ5Fs",
    "nbgrader": {
     "cell_type": "markdown",
     "checksum": "bf941ac72e18ad1963f43f11239db66f",
     "grade": false,
     "grade_id": "cell-14fe2dde824cdef2",
     "locked": true,
     "schema_version": 3,
     "solution": false,
     "task": false
    }
   },
   "source": [
    "### Expected value\n",
    "You need to plan for the search operation. There is a fixed search station at square $x=3, y=5$. Assume the Euclidean ($L_2$) norm in measuring distances. The time $t$ in hours to search a grid square from the station is given by $t = d^2 + 4d + 5$. Compute:\n",
    "\n",
    "* `expected_location` Expected value of the submarine location.\n",
    "* `expected_distance` expected value of the distance of the submarine to this fixed station \n",
    "* `total_search_time` the **total** search time required to search the every square on the entire grid. Assume each search of a grid square has to restart from the station.\n",
    "* `expected_search_time` expected search time of a random search starting at the station.\n",
    "\n",
    "**REMEMBER**, in general $$E[f(X)] \\neq f(E[X]).$$"
   ]
  },
  {
   "cell_type": "code",
   "execution_count": null,
   "metadata": {
    "colab": {
     "base_uri": "https://localhost:8080/",
     "height": 0
    },
    "id": "Gku8kdLkQ5Fs",
    "outputId": "cd2ea7cf-e8dc-4008-bf68-153cc06809c3"
   },
   "outputs": [],
   "source": [
    "show_pmf(submarine_pmf)\n",
    "plt.plot(3,5, 'C2o', label='Search station', markersize=10)\n",
    "plt.legend(loc='lower left');"
   ]
  },
  {
   "cell_type": "code",
   "execution_count": null,
   "metadata": {
    "colab": {
     "base_uri": "https://localhost:8080/"
    },
    "deletable": false,
    "id": "1nld_L5BQ5Ft",
    "nbgrader": {
     "cell_type": "code",
     "checksum": "120306992591662fea27af0e3f41a1d1",
     "grade": false,
     "grade_id": "cell-8998c5f2f2dc5ea6",
     "locked": false,
     "schema_version": 3,
     "solution": true
    },
    "outputId": "de339c98-63d1-4b21-99ef-1d2dbd6b8539"
   },
   "outputs": [],
   "source": [
    "# YOUR CODE HERE\n",
    "raise NotImplementedError()"
   ]
  },
  {
   "cell_type": "code",
   "execution_count": null,
   "metadata": {
    "colab": {
     "base_uri": "https://localhost:8080/",
     "height": 0
    },
    "deletable": false,
    "editable": false,
    "id": "Oe2CR_vfQ5Fu",
    "nbgrader": {
     "cell_type": "code",
     "checksum": "25c709fe5ad5684b2c2cd4ccfa32dc6f",
     "grade": true,
     "grade_id": "cell-77a241d926133a80",
     "locked": true,
     "points": 2,
     "schema_version": 3,
     "solution": false
    },
    "outputId": "6055bcf7-e9b3-4b19-8505-4d941b9313f6"
   },
   "outputs": [],
   "source": [
    "with tick.marks(2):\n",
    "    assert check_scalar(expected_location[0], '0x4f9f5e7c')\n",
    "    assert check_scalar(expected_location[1], '0x8805a495')\n"
   ]
  },
  {
   "cell_type": "code",
   "execution_count": null,
   "metadata": {
    "colab": {
     "base_uri": "https://localhost:8080/",
     "height": 0
    },
    "deletable": false,
    "editable": false,
    "id": "TpEz7l0uQ5Fu",
    "nbgrader": {
     "cell_type": "code",
     "checksum": "73f35be0a9fb5c48992cdabdb45f8c3a",
     "grade": true,
     "grade_id": "cell-ceb088f130e3aa0a",
     "locked": true,
     "points": 2,
     "schema_version": 3,
     "solution": false
    },
    "outputId": "a5413f06-ffa2-4a89-e4fc-620ac97b9e01"
   },
   "outputs": [],
   "source": [
    "with tick.marks(2):\n",
    "    assert check_scalar(expected_distance, '0x8b8d5382')"
   ]
  },
  {
   "cell_type": "code",
   "execution_count": null,
   "metadata": {
    "colab": {
     "base_uri": "https://localhost:8080/",
     "height": 0
    },
    "deletable": false,
    "editable": false,
    "id": "OG2ZfX5fQ5Fu",
    "nbgrader": {
     "cell_type": "code",
     "checksum": "c321969bbe7acd6ea3a1db6940bfbc6e",
     "grade": true,
     "grade_id": "cell-85aba807e0b7f5ad",
     "locked": true,
     "points": 2,
     "schema_version": 3,
     "solution": false
    },
    "outputId": "17e97ec6-4e42-405c-e6f2-11fe2b3d14fb"
   },
   "outputs": [],
   "source": [
    "with tick.marks(2):\n",
    "    assert check_scalar(total_search_time, '0x74a48a1')"
   ]
  },
  {
   "cell_type": "code",
   "execution_count": null,
   "metadata": {
    "colab": {
     "base_uri": "https://localhost:8080/",
     "height": 0
    },
    "deletable": false,
    "editable": false,
    "id": "HhYyO5u5Q5Fv",
    "nbgrader": {
     "cell_type": "code",
     "checksum": "7ff1c9802baec374efe271ec6b9f98d4",
     "grade": true,
     "grade_id": "cell-41ec04a6bc781cc6",
     "locked": true,
     "points": 3,
     "schema_version": 3,
     "solution": false
    },
    "outputId": "87384216-45d6-4fd8-8b84-96a086578727"
   },
   "outputs": [],
   "source": [
    "# Hidden test checking expected_search_time [3 marks]"
   ]
  },
  {
   "cell_type": "markdown",
   "metadata": {
    "deletable": false,
    "editable": false,
    "id": "hE5pdGP1Q5Fv",
    "nbgrader": {
     "cell_type": "markdown",
     "checksum": "952cff5c1f90ee857301b5b05937f066",
     "grade": false,
     "grade_id": "cell-568901015094be65",
     "locked": true,
     "schema_version": 3,
     "solution": false,
     "task": false
    }
   },
   "source": [
    "---"
   ]
  },
  {
   "cell_type": "markdown",
   "metadata": {
    "deletable": false,
    "editable": false,
    "id": "sH7nP3JQQ5Fv",
    "nbgrader": {
     "cell_type": "markdown",
     "checksum": "ea3d213a6d3096c5ad88426aedee7ee0",
     "grade": false,
     "grade_id": "cell-f377f3a61c95f0dd",
     "locked": true,
     "schema_version": 3,
     "solution": false
    }
   },
   "source": [
    "### Part 1.3 Conditional probability\n",
    "The search strategy could be improved if one of the $x$ or $y$ coordinates were known for sure (e.g. from another source, like satellite imaging). To identify how *much* this would help, we can use conditional probability distributions. Compute the following:\n",
    "\n",
    "\n",
    "* `p_x_y` the *conditional* PMF of an finding the submarine on an x coordinate given a y coordinate $P(X_x=x|X_y=y)$ as 16x16 matrix\n",
    "* `p_y_x` the *conditional* PMF of finding the submarine on a y coordinate given an x coordinate $P(X_y=y|X_x=x)$ as 16x16 matrix\n",
    "* `p_y_7` the conditional PMF of the submarine being in squares with y=7, as a single 16 element vector.\n",
    "* `p_even_x` the PMF of the submarine being on a given y coordinate if we know the submarine is in a grid square with even x coordinate, as a single 16 element vector. $P(X_y=y|X_x = x, x\\ \\text{even})$\n",
    "* `p_even_y_odd_x` the PMF of the submarine being on an even y coordinate if we know the submarine is in a grid square with odd x coordinate, as a single **8 element** vector. $P(X_y=y|X_x = x, x\\ \\text{odd}, y\\ \\text{even})$\n",
    "\n",
    "\n",
    "\n"
   ]
  },
  {
   "cell_type": "code",
   "execution_count": null,
   "metadata": {
    "deletable": false,
    "id": "K7pOL4y9Q5Fv",
    "nbgrader": {
     "cell_type": "code",
     "checksum": "20d66db11647e722f157b07b5d5369a3",
     "grade": false,
     "grade_id": "cell-3601a59427606f2c",
     "locked": false,
     "schema_version": 3,
     "solution": true
    }
   },
   "outputs": [],
   "source": [
    "# YOUR CODE HERE\n",
    "raise NotImplementedError()"
   ]
  },
  {
   "cell_type": "code",
   "execution_count": null,
   "metadata": {
    "colab": {
     "base_uri": "https://localhost:8080/",
     "height": 0
    },
    "deletable": false,
    "editable": false,
    "id": "GuQXP3-YQ5Fv",
    "nbgrader": {
     "cell_type": "code",
     "checksum": "fb87348abb64b2552be10b11c22c29d7",
     "grade": true,
     "grade_id": "cell-863b1da2e209fa6a",
     "locked": true,
     "points": 2,
     "schema_version": 3,
     "solution": false
    },
    "outputId": "00b069f0-0fa3-4297-9f4a-ccd8f78b5e17"
   },
   "outputs": [],
   "source": [
    "with tick.marks(2):    \n",
    "    show_pmf(p_x_y, \"P(x|y)\")\n",
    "    assert check_hash(p_x_y, ((16, 16), 2103.534977619737))    "
   ]
  },
  {
   "cell_type": "code",
   "execution_count": null,
   "metadata": {
    "deletable": false,
    "id": "bZe4eLXtQ5Fw",
    "nbgrader": {
     "cell_type": "code",
     "checksum": "aabfdfe2e1c0fbe27b9733c9b0ea57bc",
     "grade": false,
     "grade_id": "cell-cdc959df13487f32",
     "locked": false,
     "schema_version": 3,
     "solution": true
    }
   },
   "outputs": [],
   "source": [
    "# YOUR CODE HERE\n",
    "raise NotImplementedError()"
   ]
  },
  {
   "cell_type": "code",
   "execution_count": null,
   "metadata": {
    "colab": {
     "base_uri": "https://localhost:8080/",
     "height": 0
    },
    "deletable": false,
    "editable": false,
    "id": "CMqF_Ew1Q5Fw",
    "nbgrader": {
     "cell_type": "code",
     "checksum": "068fbc6d7c3fd29824b5969dd010f38b",
     "grade": true,
     "grade_id": "cell-d942e1867372da3e",
     "locked": true,
     "points": 2,
     "schema_version": 3,
     "solution": false
    },
    "outputId": "d6b3657e-f78f-4a42-aabd-65e3e2c559ae"
   },
   "outputs": [],
   "source": [
    "with tick.marks(2):\n",
    "    show_pmf(p_y_x, \"P(y|x)\")\n",
    "    assert check_hash(p_y_x, ((16, 16), 2031.7414411989753))    "
   ]
  },
  {
   "cell_type": "code",
   "execution_count": null,
   "metadata": {
    "deletable": false,
    "id": "_qYeXgAtQ5Fw",
    "nbgrader": {
     "cell_type": "code",
     "checksum": "8b4f8171a3e1c23b7dacc86bd9e7d05a",
     "grade": false,
     "grade_id": "cell-8e16f76309ef600b",
     "locked": false,
     "schema_version": 3,
     "solution": true
    }
   },
   "outputs": [],
   "source": [
    "# YOUR CODE HERE\n",
    "raise NotImplementedError()"
   ]
  },
  {
   "cell_type": "code",
   "execution_count": null,
   "metadata": {
    "colab": {
     "base_uri": "https://localhost:8080/",
     "height": 0
    },
    "deletable": false,
    "editable": false,
    "id": "9QjL5hK7Q5Fw",
    "nbgrader": {
     "cell_type": "code",
     "checksum": "dbb33492025e8dd38ae311375e177535",
     "grade": true,
     "grade_id": "cell-25f99109bed27643",
     "locked": true,
     "points": 2,
     "schema_version": 3,
     "solution": false
    },
    "outputId": "c10ccd07-5171-42e7-b904-015f659342bf"
   },
   "outputs": [],
   "source": [
    "with tick.marks(2):\n",
    "    show_pmf(p_y_7[:,None], 'p(x|y=7)')\n",
    "    assert check_hash(p_y_7, ((16,), 8.99944095882301 ))    "
   ]
  },
  {
   "cell_type": "code",
   "execution_count": null,
   "metadata": {
    "deletable": false,
    "id": "JcGeak2CQ5Fx",
    "nbgrader": {
     "cell_type": "code",
     "checksum": "9a4146dbeb7d7a7b8790e4184414c2e2",
     "grade": false,
     "grade_id": "cell-be3d98a960e0ec0c",
     "locked": false,
     "schema_version": 3,
     "solution": true
    }
   },
   "outputs": [],
   "source": [
    "# YOUR CODE HERE\n",
    "raise NotImplementedError()"
   ]
  },
  {
   "cell_type": "code",
   "execution_count": null,
   "metadata": {
    "colab": {
     "base_uri": "https://localhost:8080/",
     "height": 0
    },
    "deletable": false,
    "editable": false,
    "id": "vktZa30gQ5Fx",
    "nbgrader": {
     "cell_type": "code",
     "checksum": "ee05023ea8af52e8ae8491d0244c62c5",
     "grade": true,
     "grade_id": "cell-d84899fd8ef2e75f",
     "locked": true,
     "points": 2,
     "schema_version": 3,
     "solution": false
    },
    "outputId": "11344838-6c57-4f83-823c-80c3e97527df"
   },
   "outputs": [],
   "source": [
    "with tick.marks(2):\n",
    "    show_pmf(p_even_x[None,:], 'p(y|x even)')\n",
    "    assert check_hash(p_even_x, ((16,), 7.1624313253524745))"
   ]
  },
  {
   "cell_type": "code",
   "execution_count": null,
   "metadata": {
    "deletable": false,
    "id": "C-amc5oDQ5Fx",
    "nbgrader": {
     "cell_type": "code",
     "checksum": "1d0c505b502c6b7a3bd2fa83987a1301",
     "grade": false,
     "grade_id": "cell-b59cec75bbfba77c",
     "locked": false,
     "schema_version": 3,
     "solution": true
    }
   },
   "outputs": [],
   "source": [
    "# YOUR CODE HERE\n",
    "raise NotImplementedError()"
   ]
  },
  {
   "cell_type": "code",
   "execution_count": null,
   "metadata": {
    "colab": {
     "base_uri": "https://localhost:8080/",
     "height": 0
    },
    "deletable": false,
    "editable": false,
    "id": "M3qfVY3jQ5Fx",
    "nbgrader": {
     "cell_type": "code",
     "checksum": "3afae0e9c9afd876c1b32714db44b500",
     "grade": true,
     "grade_id": "cell-8da3f9030ad309de",
     "locked": true,
     "points": 0,
     "schema_version": 3,
     "solution": false
    },
    "outputId": "2757dada-e28e-4e33-f93d-dbc9e4988652"
   },
   "outputs": [],
   "source": [
    "#Sanity check ; just to check size\n",
    "with tick.marks(0):\n",
    "    assert check_hash(0.0*p_even_y_odd_x, ((8,), 0.0 ))\n",
    "\n",
    "tmp_pmf = np.stack([p_even_y_odd_x, 0*p_even_y_odd_x]).T.reshape(16,)    \n",
    "show_pmf(tmp_pmf[None,:], 'p(y even|x odd)')"
   ]
  },
  {
   "cell_type": "code",
   "execution_count": null,
   "metadata": {
    "colab": {
     "base_uri": "https://localhost:8080/",
     "height": 0
    },
    "deletable": false,
    "editable": false,
    "id": "bSvUGSowQ5Fx",
    "nbgrader": {
     "cell_type": "code",
     "checksum": "9e70f9cae7657f17728c8ec8cbc7bf86",
     "grade": true,
     "grade_id": "cell-69ba25f1ebfc8dbf",
     "locked": true,
     "points": 3,
     "schema_version": 3,
     "solution": false
    },
    "outputId": "dc410ee6-2730-412c-e8e8-669ffa2a849c"
   },
   "outputs": [],
   "source": [
    "# Hidden test checking p_even_y_odd_x [3 marks]"
   ]
  },
  {
   "cell_type": "markdown",
   "metadata": {
    "deletable": false,
    "editable": false,
    "id": "PDDi7soFQ5Fy",
    "nbgrader": {
     "cell_type": "markdown",
     "checksum": "0717d8819d4c37194cfe05c097629570",
     "grade": false,
     "grade_id": "cell-f17a21fd62e8c2c0",
     "locked": true,
     "schema_version": 3,
     "solution": false,
     "task": false
    }
   },
   "source": [
    "---"
   ]
  },
  {
   "cell_type": "markdown",
   "metadata": {
    "deletable": false,
    "editable": false,
    "id": "OnkYr9Y2Q5Fy",
    "nbgrader": {
     "cell_type": "markdown",
     "checksum": "a86258a7ad6e19b924e11d99599c60e5",
     "grade": false,
     "grade_id": "cell-e948c15947af285e",
     "locked": true,
     "schema_version": 3,
     "solution": false,
     "task": false
    }
   },
   "source": [
    "### Entropy\n",
    "The search could be guided more intelligently if we could work out how informative getting one of the coordinates could be. For example, knowing which `y` coordinate would give you *most* information about the `x` coordinate?  Compute the entropy of each conditional distribution $H(Y=n|X)$ and store it in `entropy_y`. Use base 2 for the entropy (i.e. bits).\n",
    "Store the most useful `y` coordinate to know in `most_informative_y`.\n"
   ]
  },
  {
   "cell_type": "code",
   "execution_count": null,
   "metadata": {
    "deletable": false,
    "id": "5IrLew88Q5Fy",
    "nbgrader": {
     "cell_type": "code",
     "checksum": "7bd64cc363fd979f6a95565eba477cc4",
     "grade": false,
     "grade_id": "cell-3a3ffce4a90517e3",
     "locked": false,
     "schema_version": 3,
     "solution": true
    }
   },
   "outputs": [],
   "source": [
    "# YOUR CODE HERE\n",
    "raise NotImplementedError()"
   ]
  },
  {
   "cell_type": "code",
   "execution_count": null,
   "metadata": {
    "colab": {
     "base_uri": "https://localhost:8080/",
     "height": 0
    },
    "deletable": false,
    "editable": false,
    "id": "Lp3dU7tgQ5Fy",
    "nbgrader": {
     "cell_type": "code",
     "checksum": "d4241d652a3051085b008b9fd1afa7f3",
     "grade": true,
     "grade_id": "cell-f33e0fb7f06e0a15",
     "locked": true,
     "points": 5,
     "schema_version": 3,
     "solution": false
    },
    "outputId": "78d8dbef-a613-4d0b-e910-c0a94199e747"
   },
   "outputs": [],
   "source": [
    "with tick.marks(5):\n",
    "    show_pmf(entropy_y[:, None])\n",
    "    assert check_hash(entropy_y, ((16,), 541.0644437253504))"
   ]
  },
  {
   "cell_type": "code",
   "execution_count": null,
   "metadata": {
    "colab": {
     "base_uri": "https://localhost:8080/",
     "height": 0
    },
    "deletable": false,
    "editable": false,
    "id": "XYekGIk4Q5Fy",
    "nbgrader": {
     "cell_type": "code",
     "checksum": "f15e4e3f9f1a4b5d70110d00b376bb4a",
     "grade": true,
     "grade_id": "cell-57a1509e5c0db276",
     "locked": true,
     "points": 0,
     "schema_version": 3,
     "solution": false
    },
    "outputId": "a55a4621-6e6d-4464-a526-51745e4b3f28"
   },
   "outputs": [],
   "source": [
    "#Sanity check; just to check size\n",
    "with tick.marks(0):\n",
    "    assert check_hash(0.0*most_informative_y, ((), 0.0 ))"
   ]
  },
  {
   "cell_type": "code",
   "execution_count": null,
   "metadata": {
    "colab": {
     "base_uri": "https://localhost:8080/",
     "height": 0
    },
    "deletable": false,
    "editable": false,
    "id": "jOST-iaXQ5Fz",
    "nbgrader": {
     "cell_type": "code",
     "checksum": "7be025f8e36b2eaf30b5849662afa770",
     "grade": true,
     "grade_id": "cell-e8d0cc4f5a598d5a",
     "locked": true,
     "points": 5,
     "schema_version": 3,
     "solution": false
    },
    "outputId": "a2aa36d0-499c-4916-b3b3-81f6d793b367"
   },
   "outputs": [],
   "source": [
    "# Hidden test checking most_informative_x [5 marks]"
   ]
  },
  {
   "cell_type": "markdown",
   "metadata": {
    "deletable": false,
    "editable": false,
    "id": "FBM9iWCfQ5Fz",
    "nbgrader": {
     "cell_type": "markdown",
     "checksum": "4dc2e03881a2acc813f8bd9eb9ecf5ad",
     "grade": false,
     "grade_id": "cell-15fcd51c74728607",
     "locked": true,
     "schema_version": 3,
     "solution": false,
     "task": false
    }
   },
   "source": [
    "---"
   ]
  },
  {
   "cell_type": "markdown",
   "metadata": {
    "deletable": false,
    "editable": false,
    "id": "IJkZcsQSQ5Fz",
    "nbgrader": {
     "cell_type": "markdown",
     "checksum": "2e840d1795c9c67912f691f59e0c3cbb",
     "grade": false,
     "grade_id": "cell-1b508597c8a9469a",
     "locked": true,
     "schema_version": 3,
     "solution": false
    }
   },
   "source": [
    "### Part 1.4 Validating pmfs"
   ]
  },
  {
   "cell_type": "markdown",
   "metadata": {
    "deletable": false,
    "editable": false,
    "id": "Se_qJBQ-Q5Fz",
    "nbgrader": {
     "cell_type": "markdown",
     "checksum": "a7a59645abed0d7599ac6d1a6d3bc346",
     "grade": false,
     "grade_id": "cell-ea451f234ced5d78",
     "locked": true,
     "schema_version": 3,
     "solution": false
    }
   },
   "source": [
    "`submarine_pmf` is one possible model of the submarine location. A number of others have been proposed for this 16x16 gridworld model of searching by the scientific reserach team; but some of them are implemented incorrectly and are not valid PMFs. These probability mass functions are stored in a list of matrices 16x16 `proposed_pmfs`. Identify which of these PMFs are *valid* PMFs and store the valid ones in a list `valid_pmfs`.\n"
   ]
  },
  {
   "cell_type": "code",
   "execution_count": null,
   "metadata": {
    "colab": {
     "base_uri": "https://localhost:8080/",
     "height": 0
    },
    "deletable": false,
    "editable": false,
    "id": "vjbIoo2CQ5Fz",
    "nbgrader": {
     "cell_type": "code",
     "checksum": "b66dd45bf7a4d65d1a5853cc4124bdec",
     "grade": false,
     "grade_id": "cell-9f4ef460929a7de6",
     "locked": true,
     "schema_version": 3,
     "solution": false,
     "task": false
    },
    "outputId": "819195c1-910b-4d60-f0f0-3d6fedc30407"
   },
   "outputs": [],
   "source": [
    "from submarine import proposed_pmfs\n",
    "\n",
    "# show each of the PMFs\n",
    "for i,pmf in enumerate(proposed_pmfs):\n",
    "    show_pmf(pmf, title=f\"PMF {i}\")\n"
   ]
  },
  {
   "cell_type": "code",
   "execution_count": null,
   "metadata": {
    "deletable": false,
    "id": "wzefN9JDQ5F0",
    "nbgrader": {
     "cell_type": "code",
     "checksum": "182e2eb7dcdcbd67ffa392b8a72bee4b",
     "grade": false,
     "grade_id": "cell-149f63387c15eb42",
     "locked": false,
     "schema_version": 3,
     "solution": true
    }
   },
   "outputs": [],
   "source": [
    "# YOUR CODE HERE\n",
    "raise NotImplementedError()"
   ]
  },
  {
   "cell_type": "code",
   "execution_count": null,
   "metadata": {
    "colab": {
     "base_uri": "https://localhost:8080/",
     "height": 0
    },
    "deletable": false,
    "editable": false,
    "id": "VR-tsB0qQ5F0",
    "nbgrader": {
     "cell_type": "code",
     "checksum": "8452ac09ccdb27230dd7e6ac7d824d36",
     "grade": true,
     "grade_id": "cell-e842ca0a837bd5cf",
     "locked": true,
     "points": 3,
     "schema_version": 3,
     "solution": false
    },
    "outputId": "746e6740-e470-4862-ba4c-a6ff85b91c19"
   },
   "outputs": [],
   "source": [
    "with tick.marks(3):\n",
    "    check_hash(valid_pmfs, ((2, 16, 16), 511.54549199055594 ))"
   ]
  },
  {
   "cell_type": "markdown",
   "metadata": {
    "deletable": false,
    "editable": false,
    "id": "hn5UX4LCQ5F0",
    "nbgrader": {
     "cell_type": "markdown",
     "checksum": "efabd33fda3f41aa6c490b12913e5576",
     "grade": false,
     "grade_id": "cell-5fc9a3a8612951e5",
     "locked": true,
     "schema_version": 3,
     "solution": false
    }
   },
   "source": [
    "---"
   ]
  },
  {
   "cell_type": "markdown",
   "metadata": {
    "deletable": false,
    "editable": false,
    "id": "djpfAM9OQ5F0",
    "nbgrader": {
     "cell_type": "markdown",
     "checksum": "e5fdbb27eeb5434ef8ddd726f05334e6",
     "grade": false,
     "grade_id": "cell-9eda25efb8c421a1",
     "locked": true,
     "schema_version": 3,
     "solution": false
    }
   },
   "source": [
    "## Sampling\n",
    "We can use sampling to simulate where the submarine might lie on the sea floor. Write a function `sample_submarine(n)` which will randomly sample submarine locations according to `submarine_pmf`, returning a `n x  2` array of sampled locations. Hint: there are 256 possible grid squares.\n",
    "\n",
    "Note: your code may pass these tests but be incorrect; this will become apparent when you attempt the \"reconstruct the PMF\" part below."
   ]
  },
  {
   "cell_type": "code",
   "execution_count": null,
   "metadata": {
    "colab": {
     "base_uri": "https://localhost:8080/"
    },
    "deletable": false,
    "id": "5q05hfLKQ5F1",
    "nbgrader": {
     "cell_type": "code",
     "checksum": "9729f4a09b6ee703ee8785eea61d0ca7",
     "grade": false,
     "grade_id": "cell-6ced2c747b1b8dcf",
     "locked": false,
     "schema_version": 3,
     "solution": true
    },
    "outputId": "4a7ef757-4926-4a34-92d0-b42fd95f7e10"
   },
   "outputs": [],
   "source": [
    "def sample_submarine(n, pmf=submarine_pmf):\n",
    "# YOUR CODE HERE\n",
    "raise NotImplementedError()\n",
    "\n",
    "# example of how to call your sample_submarine function\n",
    "sample_submarine(100)"
   ]
  },
  {
   "cell_type": "code",
   "execution_count": null,
   "metadata": {
    "colab": {
     "base_uri": "https://localhost:8080/",
     "height": 74
    },
    "deletable": false,
    "editable": false,
    "id": "sg9nTdL1Q5F1",
    "nbgrader": {
     "cell_type": "code",
     "checksum": "1d5062141829287b5cbeb7b8e0b87136",
     "grade": true,
     "grade_id": "cell-a003b8dfe1679da9",
     "locked": true,
     "points": 3,
     "schema_version": 3,
     "solution": false
    },
    "outputId": "eb0da61c-4e9a-4539-8842-8362ddad2629"
   },
   "outputs": [],
   "source": [
    "with tick.marks(3):    \n",
    "    for n in [2, 4, 10, 1000, 5000]:\n",
    "        samples =  sample_submarine(n)\n",
    "        assert samples.shape == (n,2)\n",
    "        assert np.sum(samples - np.floor(samples)) == 0.0\n",
    "        mean = np.mean(samples, axis=0)\n",
    "        sem = np.std(samples, axis=0)/np.sqrt(n)    \n",
    "        assert np.all((mean-sem < [7.93, 5.67]) | ([7.93, 5.67] < mean+sem))"
   ]
  },
  {
   "cell_type": "markdown",
   "metadata": {
    "deletable": false,
    "editable": false,
    "id": "G5jHRu9wQ5F1",
    "nbgrader": {
     "cell_type": "markdown",
     "checksum": "b249d2e069bf5d97e418ee2e25b6dd94",
     "grade": false,
     "grade_id": "cell-5203f214d0ece514",
     "locked": true,
     "schema_version": 3,
     "solution": false
    }
   },
   "source": [
    "---"
   ]
  },
  {
   "cell_type": "markdown",
   "metadata": {
    "deletable": false,
    "editable": false,
    "id": "xmX3iuyUQ5F1",
    "nbgrader": {
     "cell_type": "markdown",
     "checksum": "4cd3bd55ba173f562e7758f4770a7132",
     "grade": false,
     "grade_id": "cell-a7c66ead6a34d9ba",
     "locked": true,
     "schema_version": 3,
     "solution": false
    }
   },
   "source": [
    "### Part 1.6 Reconstruct the PMF\n",
    "\n",
    "From our samples (more realistically samples would be coming from an other source), we can reconstruct an approximation of the PMF. Write a function `reconstruct_pmf(samples)` that will reconstruct the PMF using the empirical distribution from a set of samples and return the reconstructed PMF as a 16x16 matrix. \n"
   ]
  },
  {
   "cell_type": "code",
   "execution_count": null,
   "metadata": {
    "deletable": false,
    "id": "KGrJHBSAQ5F1",
    "nbgrader": {
     "cell_type": "code",
     "checksum": "bad04dcd3273bf3f5b679e9954cf24e3",
     "grade": false,
     "grade_id": "cell-43490a5920329e51",
     "locked": false,
     "schema_version": 3,
     "solution": true
    }
   },
   "outputs": [],
   "source": [
    "def reconstruct_pmf(samples):\n",
    "    # YOUR CODE HERE\n",
    "    raise NotImplementedError()"
   ]
  },
  {
   "cell_type": "code",
   "execution_count": null,
   "metadata": {
    "colab": {
     "base_uri": "https://localhost:8080/",
     "height": 1000
    },
    "deletable": false,
    "editable": false,
    "id": "Eq6ZVKk8Q5F1",
    "nbgrader": {
     "cell_type": "code",
     "checksum": "2afd2fd500b64d1f64d5a682880bc87f",
     "grade": true,
     "grade_id": "cell-a89aed91dcf525d5",
     "locked": true,
     "points": 2,
     "schema_version": 3,
     "solution": false
    },
    "outputId": "a649ef2f-2e32-491c-dfe6-e5570372ff5f"
   },
   "outputs": [],
   "source": [
    "def kl(a, b):\n",
    "    eps = 1e-9 # small constant used to avoid division by zero\n",
    "    return np.sum(np.where((b<1e-10)|(a<1e-10), 0.0, a * np.log((a+eps)/(b+eps))))\n",
    "\n",
    "with tick.marks(2):    \n",
    "    kls = [4.0, 3.5, 2.5, 0.1, 0.02]\n",
    "    for i,n in enumerate([1, 4, 10, 1000, 5000]):        \n",
    "        approx_pmf =  reconstruct_pmf(sample_submarine(n))\n",
    "        assert approx_pmf.shape == submarine_pmf.shape\n",
    "        assert check_scalar(np.sum(approx_pmf), \"0xb44c37ea\")     \n",
    "        assert np.max(approx_pmf)<=1.0\n",
    "        assert np.min(approx_pmf)>=0.0\n",
    "        kl_div = abs(kls[i] - kl(approx_pmf, submarine_pmf))/kls[i]        \n",
    "        assert kl_div < 1.0             \n",
    "        sample = reconstruct_pmf(sample_submarine(n))\n",
    "        show_pmf(sample, f\"{n} samples\")             "
   ]
  },
  {
   "cell_type": "markdown",
   "metadata": {
    "deletable": false,
    "editable": false,
    "id": "11esGtKxQ5F2",
    "nbgrader": {
     "cell_type": "markdown",
     "checksum": "9676f4ac1f7ecb4b0943e3203fd56843",
     "grade": false,
     "grade_id": "cell-3952a9f34c752035",
     "locked": true,
     "schema_version": 3,
     "solution": false,
     "task": false
    }
   },
   "source": [
    "---"
   ]
  },
  {
   "cell_type": "markdown",
   "metadata": {
    "deletable": false,
    "editable": false,
    "id": "LOicbXCaQ5F2",
    "nbgrader": {
     "cell_type": "markdown",
     "checksum": "66810fa08029d440b2c84b9e3e699010",
     "grade": false,
     "grade_id": "cell-be9670101cd35076",
     "locked": true,
     "schema_version": 3,
     "solution": false,
     "task": false
    }
   },
   "source": [
    "### Part 1.7 Log likelihood\n",
    "Various theoretical models of oceanographic features have been used to simulate what happened to the submarine. \n",
    "\n",
    "* crater\n",
    "* zeeman_shift\n",
    "* oblov_1\n",
    "* minority\n",
    "* inviscid\n",
    "\n",
    "Each of these models produces a collection of simulated submarine locations as a result.\n",
    "\n",
    "`submarine_samples` provides a dictionary with samples from various named submarine position generating functions. Compute the *log*-likelihood of each sequence $\\log \\mathcal{L}(x_1, x_2,\\dots)$ under the model defined by the PMF `submarine_pmf`. \n",
    "* `sequence_lliks`  a dictionary that maps the names to the log-likelihood.\n",
    "* `most_likely_sequence` the name of the sequence is most likely to be compatible with this model.\n"
   ]
  },
  {
   "cell_type": "code",
   "execution_count": null,
   "metadata": {
    "colab": {
     "base_uri": "https://localhost:8080/"
    },
    "deletable": false,
    "editable": false,
    "id": "Qc3b-AYkQ5F2",
    "nbgrader": {
     "cell_type": "code",
     "checksum": "56616e24932d084b3205c0b27e921f36",
     "grade": false,
     "grade_id": "cell-641b1188c71e85d3",
     "locked": true,
     "schema_version": 3,
     "solution": false
    },
    "outputId": "17675d1e-cb07-4ea5-d024-3f93711ad850"
   },
   "outputs": [],
   "source": [
    "from submarine import submarine_samples\n",
    "\n",
    "print(submarine_samples.keys())"
   ]
  },
  {
   "cell_type": "code",
   "execution_count": null,
   "metadata": {
    "colab": {
     "base_uri": "https://localhost:8080/"
    },
    "deletable": false,
    "id": "Ol1_c5EzQ5F2",
    "nbgrader": {
     "cell_type": "code",
     "checksum": "3f6104c8c526018f6e422c79f1cfba65",
     "grade": false,
     "grade_id": "cell-98425398cdbd2cd1",
     "locked": false,
     "schema_version": 3,
     "solution": true
    },
    "outputId": "463c8bab-a55e-4766-ad95-eb4ddb760375"
   },
   "outputs": [],
   "source": [
    "def llik(seq):\n",
    "# YOUR CODE HERE\n",
    "raise NotImplementedError()"
   ]
  },
  {
   "cell_type": "code",
   "execution_count": null,
   "metadata": {
    "colab": {
     "base_uri": "https://localhost:8080/",
     "height": 0
    },
    "deletable": false,
    "editable": false,
    "id": "myLa6kpXQ5F2",
    "nbgrader": {
     "cell_type": "code",
     "checksum": "c5bcf6da4f25f9b17ff569aab705c236",
     "grade": true,
     "grade_id": "cell-43086fe41632f312",
     "locked": true,
     "points": 3,
     "schema_version": 3,
     "solution": false
    },
    "outputId": "c9b0601c-9ebb-4ada-9ae5-de57b4b8488a"
   },
   "outputs": [],
   "source": [
    "\n",
    "\n",
    "hashes = {\n",
    "    \"crater\": \"0x7315af59\",\n",
    "    \"zeeman_shift\": \"0x2c18773a\",\n",
    "    \"oblov_1\": \"0x11b0e54d\",\n",
    "    \"minority\": \"0x37d528a8\",\n",
    "    \"inviscid\": \"0x6bb2ae44\",\n",
    "}\n",
    "\n",
    "with tick.marks(3):\n",
    "    for key in submarine_samples.keys():\n",
    "        print(key, sequence_lliks[key])\n",
    "        assert check_scalar(sequence_lliks[key], hashes[key])"
   ]
  },
  {
   "cell_type": "code",
   "execution_count": null,
   "metadata": {
    "colab": {
     "base_uri": "https://localhost:8080/",
     "height": 0
    },
    "deletable": false,
    "editable": false,
    "id": "f1fidJ4RQ5F3",
    "nbgrader": {
     "cell_type": "code",
     "checksum": "ff164f3ec2d7044b244d1fddf9242f01",
     "grade": true,
     "grade_id": "cell-c8caccb1f407fb03",
     "locked": true,
     "points": 1,
     "schema_version": 3,
     "solution": false
    },
    "outputId": "f5b4bf09-c3c5-4340-b237-7a652c7457f6"
   },
   "outputs": [],
   "source": [
    "# Hidden test checking the string most_likely_sequence [1 mark]"
   ]
  },
  {
   "cell_type": "markdown",
   "metadata": {
    "deletable": false,
    "editable": false,
    "id": "BsUku83fQ5F3",
    "nbgrader": {
     "cell_type": "markdown",
     "checksum": "2c73944f04a155160550c3ae8bed65a1",
     "grade": false,
     "grade_id": "cell-0dcaf020899bd3e2",
     "locked": true,
     "schema_version": 3,
     "solution": false
    }
   },
   "source": [
    "---"
   ]
  },
  {
   "cell_type": "markdown",
   "metadata": {
    "deletable": false,
    "editable": false,
    "id": "6b8KI7oZQ5F3",
    "nbgrader": {
     "cell_type": "markdown",
     "checksum": "f3fb89b31ba2fcae503e53be5e14771c",
     "grade": false,
     "grade_id": "cell-9eac7cec4dae93a7",
     "locked": true,
     "schema_version": 3,
     "solution": false
    }
   },
   "source": [
    "### Part 1.8 Bayes' rule\n",
    "\n",
    "The function `search_submarine(x,y)` returns the **likelihood** for the submarine's location, given an `x` and `y` coordinate to search at based on sonar returns from a search ship. It returns this as a 16x16 matrix."
   ]
  },
  {
   "cell_type": "markdown",
   "metadata": {
    "deletable": false,
    "editable": false,
    "id": "xu9phKkxQ5F3",
    "nbgrader": {
     "cell_type": "markdown",
     "checksum": "77cd62a8314f94515d5f8dfee047cb39",
     "grade": false,
     "grade_id": "cell-7ee9bc7d92d24f3d",
     "locked": true,
     "schema_version": 3,
     "solution": false
    }
   },
   "source": [
    "Using `submarine_pmf` as a prior, compute the posterior PMF using the result of `search_submarine(10, 7)` as likelihood. Store the result in `submarine_posterior`."
   ]
  },
  {
   "cell_type": "code",
   "execution_count": null,
   "metadata": {
    "deletable": false,
    "id": "WufRP2D5Q5F3",
    "nbgrader": {
     "cell_type": "code",
     "checksum": "0b458e86690f2cab630a52a562ef6791",
     "grade": false,
     "grade_id": "cell-f5657a7d24c98bc4",
     "locked": false,
     "schema_version": 3,
     "solution": true
    }
   },
   "outputs": [],
   "source": [
    "from submarine import search_submarine\n",
    "\n",
    "# YOUR CODE HERE\n",
    "raise NotImplementedError()"
   ]
  },
  {
   "cell_type": "code",
   "execution_count": null,
   "metadata": {
    "colab": {
     "base_uri": "https://localhost:8080/",
     "height": 0
    },
    "deletable": false,
    "editable": false,
    "id": "i4omXGjcQ5F4",
    "nbgrader": {
     "cell_type": "code",
     "checksum": "1510f2852a422789ec373942b5658fce",
     "grade": true,
     "grade_id": "cell-4fe36f9bca414613",
     "locked": true,
     "points": 5,
     "schema_version": 3,
     "solution": false
    },
    "outputId": "5196b097-6133-42af-c59b-b5508666af04"
   },
   "outputs": [],
   "source": [
    "show_pmf(submarine_pmf, 'Prior')\n",
    "show_pmf(search_submarine(10,7), 'Likelihood' )\n",
    "show_pmf(submarine_posterior, 'Posterior')\n",
    "with tick.marks(5):\n",
    "    assert check_hash(submarine_posterior, ((16, 16), 129.2249265521699))"
   ]
  },
  {
   "cell_type": "markdown",
   "metadata": {
    "deletable": false,
    "editable": false,
    "id": "lRwIph0fQ5F4",
    "nbgrader": {
     "cell_type": "markdown",
     "checksum": "9b069ffd268dfe883c4d707a739eaf07",
     "grade": false,
     "grade_id": "cell-68ae05ee1643d997",
     "locked": true,
     "schema_version": 3,
     "solution": false
    }
   },
   "source": [
    "---"
   ]
  },
  {
   "cell_type": "markdown",
   "metadata": {
    "deletable": false,
    "editable": false,
    "id": "iHa49ykjQ5F4",
    "nbgrader": {
     "cell_type": "markdown",
     "checksum": "f581a020779ac8aaff5d5d78d8f319e2",
     "grade": false,
     "grade_id": "cell-0dc3e17bba233374",
     "locked": true,
     "schema_version": 3,
     "solution": false
    }
   },
   "source": [
    "### Part 1.9 Sequential searching \n",
    "Compute the posterior distribution after searching the each of squares y=5, x=0..15 (i.e. testing *each* of these 16 squares in turn, and combining *all* of the evidence into a posterior), storing the posteriors as a list, *starting with the prior* and ending with the posterior after observing y=5, x=15. You should have a 17 element list of 16x16 matrices. Store this as `search_strip_posterior`\n"
   ]
  },
  {
   "cell_type": "code",
   "execution_count": null,
   "metadata": {
    "deletable": false,
    "id": "_NOguuCMQ5F4",
    "nbgrader": {
     "cell_type": "code",
     "checksum": "6e2ae8c78234327c3777a8a652534614",
     "grade": false,
     "grade_id": "cell-8fd8c985f20e5b8b",
     "locked": false,
     "schema_version": 3,
     "solution": true
    }
   },
   "outputs": [],
   "source": [
    "# YOUR CODE HERE\n",
    "raise NotImplementedError()"
   ]
  },
  {
   "cell_type": "code",
   "execution_count": null,
   "metadata": {
    "colab": {
     "base_uri": "https://localhost:8080/",
     "height": 0
    },
    "deletable": false,
    "editable": false,
    "id": "q-ly0fKdQ5F4",
    "nbgrader": {
     "cell_type": "code",
     "checksum": "58b438e38ad59382dbf85644db94a104",
     "grade": true,
     "grade_id": "cell-2394f8de477ce0f2",
     "locked": true,
     "points": 0,
     "schema_version": 3,
     "solution": false
    },
    "outputId": "f1e7006c-a65a-4a0f-d54d-038b0cc20ec9"
   },
   "outputs": [],
   "source": [
    "# Sanity check that the size is ok [0 marks]\n",
    "with tick.marks(0):\n",
    "    assert(len(search_strip_posterior)==17)\n",
    "    assert(search_strip_posterior[0].shape==(16, 16)) # only check one of the 17 matricies\n",
    "\n",
    "# Show the 17 individual posteriors\n",
    "for i, p in enumerate(search_strip_posterior):\n",
    "    show_pmf(p, f'Posterior after searching y=5, x={i}')\n"
   ]
  },
  {
   "cell_type": "code",
   "execution_count": null,
   "metadata": {
    "colab": {
     "base_uri": "https://localhost:8080/",
     "height": 0
    },
    "deletable": false,
    "editable": false,
    "id": "QIb78eqjQ5F5",
    "nbgrader": {
     "cell_type": "code",
     "checksum": "864f90d192c3e82614aa5ef3ffe97b72",
     "grade": true,
     "grade_id": "cell-41676c5e08b4c7f2",
     "locked": true,
     "points": 6,
     "schema_version": 3,
     "solution": false
    },
    "outputId": "5ab2cc37-72de-48a2-e053-5c232ccc4683"
   },
   "outputs": [],
   "source": [
    "# Hidden test checking search_strip_posterior [6 marks ]"
   ]
  },
  {
   "cell_type": "markdown",
   "metadata": {
    "deletable": false,
    "editable": false,
    "id": "YLsirIZoQ5F5",
    "nbgrader": {
     "cell_type": "markdown",
     "checksum": "65c6a82871745f8ccf2c82875d295a7a",
     "grade": false,
     "grade_id": "cell-bc0e3b550c8d5102",
     "locked": true,
     "schema_version": 3,
     "solution": false,
     "task": false
    }
   },
   "source": [
    "---\n",
    "\n",
    "---\n",
    "\n",
    "\n",
    "---\n",
    "\n",
    "---"
   ]
  },
  {
   "cell_type": "markdown",
   "metadata": {
    "deletable": false,
    "editable": false,
    "id": "FqCvAO1XQ5F5",
    "nbgrader": {
     "cell_type": "markdown",
     "checksum": "158dc84a4ff4f6bcec4bcf48d1db2b09",
     "grade": false,
     "grade_id": "cell-59a6ebc39d9d065c",
     "locked": true,
     "schema_version": 3,
     "solution": false
    }
   },
   "source": [
    "## Part 2. Hunt the submarine: continuous version\n",
    "The simple discrete grid model is easy to do computations with but not a very realistic model. A better world model is that locations are *continuous* in nature; for example points specified as longitude and latitude. To work with this model probabilistically, we need to use (multivariate, i.e. vector) **probability density functions** which map coordinates to *density*, not probability.\n",
    "\n",
    "\n",
    "\n",
    "### Multivariate normal distribution\n",
    "The PDF for the multivariate Normal distribution is defined as follows (for column vectors):\n",
    "\n",
    "$$f_{{X}}(\\vec{x})=\\frac{1}{\\sqrt{(2\\pi)^d|\\boldsymbol\\Sigma|}}\\operatorname{exp}\\left( -\\frac{1}{2} (\\vec{x}-\\boldsymbol\\mu)^\\top \\boldsymbol\\Sigma^{-1} (\\vec{x}-\\boldsymbol\\mu)   \\right)$$\n",
    "where $\\boldsymbol\\mu$ is the mean (vector), $d$ is the dimension of $\\vec{x}$ and $\\boldsymbol\\Sigma$ is the $d \\times d$ covariance matrix.\n",
    "\n",
    "### Continuous distributions\n",
    "A continuous random variable can be represented as a class that has parameters and that provides two functions:\n",
    "\n",
    "* `llik` the log-likelihood of an observation\n",
    "* `sample` that returns a sample from a distribution\n",
    "\n",
    "The multivariate normal PDF is implemented below using standard `scipy` implementations along with useful methods for drawing the density for debugging."
   ]
  },
  {
   "cell_type": "code",
   "execution_count": null,
   "metadata": {
    "deletable": false,
    "editable": false,
    "id": "TrqahFO0Q5F5",
    "nbgrader": {
     "cell_type": "code",
     "checksum": "6f77432674b19bb1acca84a06c814a2c",
     "grade": false,
     "grade_id": "cell-3a92c8586c532c0d",
     "locked": true,
     "schema_version": 3,
     "solution": false,
     "task": false
    }
   },
   "outputs": [],
   "source": [
    "import scipy.stats\n",
    "from jhwutils.ellipse import _cov_ellipse\n",
    "\n",
    "class MultivariateNormal:\n",
    "    \n",
    "    def __init__(self, mu, sigma):\n",
    "        # use the existing implementation in scipy.stats\n",
    "        self.mu = mu\n",
    "        self.sigma = sigma\n",
    "        self.distribution = scipy.stats.multivariate_normal(self.mu, self.sigma)\n",
    "    \n",
    "    # log-likelihood of one observation\n",
    "    def llik(self, x):\n",
    "        return self.distribution.logpdf(x)\n",
    "    \n",
    "    # n random samples\n",
    "    def sample(self, n):\n",
    "        return self.distribution.rvs(n)        \n",
    "        \n",
    "    # render the distribution pdf as if it were a PMF\n",
    "    def draw(self):            \n",
    "        span = np.linspace(0,16,160)\n",
    "        grid = np.array(np.meshgrid(span, span)).reshape(2, -1).T        \n",
    "        pdf = self.distribution.pdf(grid)        \n",
    "        show_pmf(pdf.reshape(160,160).T)                        "
   ]
  },
  {
   "cell_type": "markdown",
   "metadata": {
    "deletable": false,
    "editable": false,
    "id": "81PzQ-JBQ5F5",
    "nbgrader": {
     "cell_type": "markdown",
     "checksum": "88be3c08ac8477ad6b20bf1b63859d18",
     "grade": false,
     "grade_id": "cell-b82241dae6163f7e",
     "locked": true,
     "schema_version": 3,
     "solution": false
    }
   },
   "source": [
    "---"
   ]
  },
  {
   "cell_type": "markdown",
   "metadata": {
    "deletable": false,
    "editable": false,
    "id": "CxEQ0Jj5Q5F6",
    "nbgrader": {
     "cell_type": "markdown",
     "checksum": "1259becfab3c80778b06f2a497dd6ded",
     "grade": false,
     "grade_id": "cell-bad4385e07b6cf26",
     "locked": true,
     "schema_version": 3,
     "solution": false
    }
   },
   "source": [
    "### Part 2.1\n",
    "Instantiate a multivariate Normal distribution using the `MultivariateNormal` class defined above. Store it in `x`. E.g. `x = MultivariateNormal(mu=m, sigma=S)`\n",
    "\n",
    "The PDF should have mean with coordinates (6,6), variance of one along both the latitude and longitude direction, and a covariance of 0.6.\n"
   ]
  },
  {
   "cell_type": "code",
   "execution_count": null,
   "metadata": {
    "colab": {
     "base_uri": "https://localhost:8080/",
     "height": 0
    },
    "deletable": false,
    "id": "2nZkAwn-Q5F6",
    "nbgrader": {
     "cell_type": "code",
     "checksum": "2bf503ff793f7f31b0f1b6c5af800f11",
     "grade": false,
     "grade_id": "cell-24493d8c5b310efa",
     "locked": false,
     "schema_version": 3,
     "solution": true
    },
    "outputId": "2701ab37-6703-4527-c74a-dabb0ff2f3f0"
   },
   "outputs": [],
   "source": [
    "# YOUR CODE HERE\n",
    "raise NotImplementedError()"
   ]
  },
  {
   "cell_type": "code",
   "execution_count": null,
   "metadata": {
    "colab": {
     "base_uri": "https://localhost:8080/",
     "height": 0
    },
    "deletable": false,
    "editable": false,
    "id": "BxcuRkfOQ5F6",
    "nbgrader": {
     "cell_type": "code",
     "checksum": "16a5689f7bcbe9c574b653d510c08414",
     "grade": true,
     "grade_id": "cell-7f8d3f2c2bb0cd1b",
     "locked": true,
     "points": 2,
     "schema_version": 3,
     "solution": false
    },
    "outputId": "9370e02d-ddfa-4442-d93b-a1b5f189237f"
   },
   "outputs": [],
   "source": [
    "# Autograded [2 marks]\n",
    "\n",
    "with tick.marks(2):\n",
    "    assert check_hash(x.mu, ((2,), 42.0))\n",
    "    assert check_hash(x.sigma, ((2,2), 11.4))"
   ]
  },
  {
   "cell_type": "markdown",
   "metadata": {
    "deletable": false,
    "editable": false,
    "id": "f6wYuIaNQ5F6",
    "nbgrader": {
     "cell_type": "markdown",
     "checksum": "ad9d82cee93c6bbce52ccc3f18dd16c4",
     "grade": false,
     "grade_id": "cell-9e16a4286ea45ca9",
     "locked": true,
     "schema_version": 3,
     "solution": false,
     "task": false
    }
   },
   "source": [
    "**Try varying these parameters (in a new unassessed cell) and viewing the resulting distributions to understand what effect they have:**"
   ]
  },
  {
   "cell_type": "markdown",
   "metadata": {
    "deletable": false,
    "editable": false,
    "id": "b9QF6CgUQ5F6",
    "nbgrader": {
     "cell_type": "markdown",
     "checksum": "1098447b8cf8fc3290e4bfca8786fa94",
     "grade": false,
     "grade_id": "cell-f659fe0a515a8121",
     "locked": true,
     "schema_version": 3,
     "solution": false
    }
   },
   "source": [
    "---"
   ]
  },
  {
   "cell_type": "markdown",
   "metadata": {
    "deletable": false,
    "editable": false,
    "id": "IBxFfB38Q5F6",
    "nbgrader": {
     "cell_type": "markdown",
     "checksum": "c0a4806c32f87a658c2f73e9770e4c2a",
     "grade": false,
     "grade_id": "cell-53f6e68edcd69ae8",
     "locked": true,
     "schema_version": 3,
     "solution": false
    }
   },
   "source": [
    "### Part 2.2 Fitting with direct computation\n",
    "\n",
    "There are a collection of *observed* potential locations for the submarine from a search ship in `submarine_observations`. The problem is to fit the parameters of a PDF given these observations.\n",
    "\n",
    "Recall that the **arithmetic mean** is sum of sample values $\\vec{x}_1, \\vec{x}_2, \\dots, \\vec{x}_n$ divided by the number of values:\n",
    "$$\\hat{\\boldsymbol\\mu} = \\frac{1}{n} \\sum_{i=1}^n \\vec{x}_i$$\n",
    "\n",
    "The empirical covariance is computed by:\n",
    "\n",
    "$${\\boldsymbol{\\hat \\Sigma }} = \\frac{1}{{n - 1}}\\sum\\limits_{i = 1}^n {{{\\left( {{{\\mathbf{x}}_i} - {\\boldsymbol{\\hat \\mu }}} \\right)}^T}\\left( {{{\\mathbf{x}}_i} - {\\boldsymbol{\\hat \\mu }}} \\right)} $$\n",
    "\n",
    "Under the assumption that a reasonable model for the submarine location is a multivariate normal:\n",
    "\n",
    "* directly estimate the parameters for a `MultivariateNormal` using standard numpy functions (which we have used in previous labs and several lectures) and store the result in `normal_mu_hat` and `normal_sigma_hat`.\n",
    "* `llik_normal` the log-likelihood of the *entire* set of observations under this model (i.e. with these parameters)\n",
    "* `samples_normal` 250 samples drawn from the multivariate normal model with these parameters\n",
    "* `llik_misfit` how much smaller the log-likelihood of observations is compared to the samples *generated under the model* (i.e. `samples_normal`). This should be a negative number."
   ]
  },
  {
   "cell_type": "code",
   "execution_count": null,
   "metadata": {
    "deletable": false,
    "editable": false,
    "id": "ZzilC2gxQ5F7",
    "nbgrader": {
     "cell_type": "code",
     "checksum": "2555d4fe24e2c4dcdbc3232245f2c55a",
     "grade": false,
     "grade_id": "cell-edf392c7953079f2",
     "locked": true,
     "schema_version": 3,
     "solution": false
    }
   },
   "outputs": [],
   "source": [
    "submarine_observations = np.loadtxt('data/submarine2023.txt')"
   ]
  },
  {
   "cell_type": "code",
   "execution_count": null,
   "metadata": {
    "deletable": false,
    "id": "8KAO9s-9Q5F7",
    "nbgrader": {
     "cell_type": "code",
     "checksum": "9b58577aeda7681333a1ac2169df7f45",
     "grade": false,
     "grade_id": "cell-7d080964de53f4f3",
     "locked": false,
     "schema_version": 3,
     "solution": true
    }
   },
   "outputs": [],
   "source": [
    "# Set a seed - DO NOT MODIFY\n",
    "np.random.seed(2023)\n",
    "############################\n",
    "\n",
    "# YOUR CODE HERE\n",
    "raise NotImplementedError()"
   ]
  },
  {
   "cell_type": "code",
   "execution_count": null,
   "metadata": {
    "colab": {
     "base_uri": "https://localhost:8080/",
     "height": 0
    },
    "deletable": false,
    "editable": false,
    "id": "GRPThe4LQ5F7",
    "nbgrader": {
     "cell_type": "code",
     "checksum": "926c76c5ea1e2f856e6435d9145fe0c4",
     "grade": false,
     "grade_id": "cell-0348c8f0e8be2ef0",
     "locked": true,
     "schema_version": 3,
     "solution": false
    },
    "outputId": "c25f00c5-73ec-4efe-cd02-5dddeb9ba1b2"
   },
   "outputs": [],
   "source": [
    "x = MultivariateNormal(normal_mu_hat, normal_sigma_hat)\n",
    "\n",
    "x.draw()\n",
    "ax = plt.gca()\n",
    "ax.scatter(samples_normal[:,0], samples_normal[:,1], c='r', marker='x', s=1, label=\"Samples\")\n",
    "ax.scatter(submarine_observations[:,0], submarine_observations[:,1], marker='o', color='w', s=2, label=\"Observations\")\n",
    "ax.set_xlim(0,16)\n",
    "ax.set_ylim(0,16)\n",
    "ax.legend()\n",
    "ax.set_title(f\"Log-likelihood = {llik_normal:.2f}\")"
   ]
  },
  {
   "cell_type": "code",
   "execution_count": null,
   "metadata": {
    "colab": {
     "base_uri": "https://localhost:8080/",
     "height": 0
    },
    "deletable": false,
    "editable": false,
    "id": "URobFnhHQ5F7",
    "nbgrader": {
     "cell_type": "code",
     "checksum": "7d7bfb391934bf53d6bfbb4b1985012d",
     "grade": true,
     "grade_id": "cell-a20178d471a74cd7",
     "locked": true,
     "points": 2,
     "schema_version": 3,
     "solution": false
    },
    "outputId": "cfcf959f-67b3-41fe-96a4-7328674c0794"
   },
   "outputs": [],
   "source": [
    "with tick.marks(2):\n",
    "    assert check_hash(normal_mu_hat, ((2,), 48.304595497516765))\n",
    "    assert check_hash(normal_sigma_hat, ((2,2), 16.421940503564702))    "
   ]
  },
  {
   "cell_type": "code",
   "execution_count": null,
   "metadata": {
    "colab": {
     "base_uri": "https://localhost:8080/",
     "height": 0
    },
    "deletable": false,
    "editable": false,
    "id": "6luLRCLyQ5F8",
    "nbgrader": {
     "cell_type": "code",
     "checksum": "8ba6c0ff769eff23b47421d57f6d2a5b",
     "grade": true,
     "grade_id": "cell-bcb211d2e6b41e34",
     "locked": true,
     "points": 2,
     "schema_version": 3,
     "solution": false
    },
    "outputId": "166cb2c2-765f-4e5c-d18c-68d1aab6212f"
   },
   "outputs": [],
   "source": [
    "with tick.marks(2):\n",
    "    assert samples_normal.shape == (250, 2)\n",
    "    assert np.all(np.std(samples_normal, axis=0)>0.5)\n",
    "    assert np.all(np.mean(samples_normal, axis=0) - np.array([8, 6]) < 4.0 * (np.std(samples_normal, axis=0)/np.sqrt(250)))  "
   ]
  },
  {
   "cell_type": "code",
   "execution_count": null,
   "metadata": {
    "colab": {
     "base_uri": "https://localhost:8080/",
     "height": 0
    },
    "deletable": false,
    "editable": false,
    "id": "vnCoeOMJQ5F8",
    "nbgrader": {
     "cell_type": "code",
     "checksum": "71d1b90991c00160d7339bd39bd9a75a",
     "grade": true,
     "grade_id": "cell-53b16a9b581150d8",
     "locked": true,
     "points": 3,
     "schema_version": 3,
     "solution": false
    },
    "outputId": "8e1246bd-f548-4e7b-acee-79f180c3565f"
   },
   "outputs": [],
   "source": [
    "# Hidden test checking the scalar llik_normal [3 marks]"
   ]
  },
  {
   "cell_type": "code",
   "execution_count": null,
   "metadata": {
    "colab": {
     "base_uri": "https://localhost:8080/",
     "height": 0
    },
    "deletable": false,
    "editable": false,
    "id": "GTGSh0O-Q5F8",
    "nbgrader": {
     "cell_type": "code",
     "checksum": "5f64e5e9aaf309211fcb0409db28b5b2",
     "grade": true,
     "grade_id": "cell-4c8d65ee9714efda",
     "locked": true,
     "points": 4,
     "schema_version": 3,
     "solution": false
    },
    "outputId": "efe06250-0fc5-40d1-d99d-7ab1554baa76"
   },
   "outputs": [],
   "source": [
    "# Hidden test checking the scalar llik_misfit [4 marks]"
   ]
  },
  {
   "cell_type": "markdown",
   "metadata": {
    "deletable": false,
    "editable": false,
    "id": "EzQSnrxpQ5F8",
    "nbgrader": {
     "cell_type": "markdown",
     "checksum": "78c891dfcc630d7d028173df441b99d8",
     "grade": false,
     "grade_id": "cell-8e93b8678975fc65",
     "locked": true,
     "schema_version": 3,
     "solution": false
    }
   },
   "source": [
    "---"
   ]
  },
  {
   "cell_type": "markdown",
   "metadata": {
    "deletable": false,
    "editable": false,
    "id": "_x-5T8N2Q5F8",
    "nbgrader": {
     "cell_type": "markdown",
     "checksum": "eb9bbc3077e4757b4faed9b617dcd079",
     "grade": false,
     "grade_id": "cell-d3b08a93d810ffc5",
     "locked": true,
     "schema_version": 3,
     "solution": false
    }
   },
   "source": [
    "### Part 2.3: A cross search pattern\n",
    "\n",
    "Scientists argue that a better model for the location of the submarine is a cross-shaped density that reflects two possible ocean currents in the Atlantic and is also easier to search by ship. The scientists have written a probabilistic model which gives the density of a specialised \"cross distribution\". This is a non-standard distribution that has four parameters: `ctr`, `span`, `leg` and `angle`.\n",
    "\n",
    "<img src=\"imgs/ship_cross.png\" width=\"50%\">\n"
   ]
  },
  {
   "cell_type": "code",
   "execution_count": null,
   "metadata": {
    "deletable": false,
    "editable": false,
    "id": "zkPpU4xXQ5F8",
    "nbgrader": {
     "cell_type": "code",
     "checksum": "c97bcdb18a246b66f76f88e49a92aec4",
     "grade": false,
     "grade_id": "cell-3dc895cab56c2d87",
     "locked": true,
     "schema_version": 3,
     "solution": false,
     "task": false
    }
   },
   "outputs": [],
   "source": [
    "class CrossDistribution:\n",
    "    def __init__(self, ctr, span, leg, angle):\n",
    "        self.ctr = ctr\n",
    "        leg = 1.0 + np.log(leg + 1.0)\n",
    "        s, c = np.sin(np.radians(angle)), np.cos(np.radians(angle))\n",
    "        r1 = np.array([[s / leg, c * leg], [c / leg, -s * leg]])\n",
    "        r2 = np.array([[-c / leg, s * leg], [s / leg, c * leg]])\n",
    "        scale = np.eye(2) * np.sqrt(span)\n",
    "        self.arm1 = scipy.stats.multivariate_normal(self.ctr, r1 @ scale @ scale @ r1.T)\n",
    "        self.arm2 = scipy.stats.multivariate_normal(self.ctr, r2 @ scale @ scale @ r2.T)\n",
    "\n",
    "    # log-likelihood of one observation\n",
    "    def llik(self, x):\n",
    "        return np.log((self.arm1.pdf(x) + self.arm2.pdf(x)) / 2.0)\n",
    "\n",
    "    # n random samples\n",
    "    def sample(self, n):\n",
    "        a1_samples = self.arm1.rvs(n)\n",
    "        a2_samples = self.arm2.rvs(n)\n",
    "        return np.where(np.random.uniform(0, 1, n) < 0.5, a1_samples.T, a2_samples.T).T\n",
    "\n",
    "    # render the distribution pdf as if it were a PMF\n",
    "    def draw(self):\n",
    "        span = np.linspace(0, 16, 160)\n",
    "        grid = np.array(np.meshgrid(span, span)).reshape(2, -1).T\n",
    "\n",
    "        pdf = 0.5 * self.arm1.pdf(grid) + 0.5 * self.arm2.pdf(grid)\n",
    "        show_pmf(pdf.reshape(160, 160).T)"
   ]
  },
  {
   "cell_type": "code",
   "execution_count": null,
   "metadata": {
    "deletable": false,
    "editable": false,
    "id": "Ua7jqpg7Q5F9",
    "nbgrader": {
     "cell_type": "code",
     "checksum": "61bb46533173c0af0fa934761231ee11",
     "grade": true,
     "grade_id": "cell-3a3f237bc1daa3ba",
     "locked": true,
     "points": 0,
     "schema_version": 3,
     "solution": false
    }
   },
   "outputs": [],
   "source": []
  },
  {
   "cell_type": "markdown",
   "metadata": {
    "deletable": false,
    "editable": false,
    "id": "O74DF1ecQ5F9",
    "nbgrader": {
     "cell_type": "markdown",
     "checksum": "c2aa486e2dc70840eada0c4dfa7296bd",
     "grade": false,
     "grade_id": "cell-1342282f857fa11a",
     "locked": true,
     "schema_version": 3,
     "solution": false
    }
   },
   "source": [
    "**Try varying these parameters and viewing the resulting distributions to understand what effect they have:**"
   ]
  },
  {
   "cell_type": "code",
   "execution_count": null,
   "metadata": {
    "colab": {
     "base_uri": "https://localhost:8080/",
     "height": 0
    },
    "id": "F5K2S7AKQ5F9",
    "outputId": "c87172c9-2c34-4053-af84-3e761fe69175"
   },
   "outputs": [],
   "source": [
    "cf = CrossDistribution(ctr=(7,5), span=5.1, leg=3.0, angle=-30.)\n",
    "cf.draw()"
   ]
  },
  {
   "cell_type": "markdown",
   "metadata": {
    "deletable": false,
    "editable": false,
    "id": "I7DvY4a3Q5F9",
    "nbgrader": {
     "cell_type": "markdown",
     "checksum": "96b09463a65afebe897e4701fd11adce",
     "grade": false,
     "grade_id": "cell-6c31bc929f62f685",
     "locked": true,
     "schema_version": 3,
     "solution": false
    }
   },
   "source": [
    "---"
   ]
  },
  {
   "cell_type": "markdown",
   "metadata": {
    "deletable": false,
    "editable": false,
    "id": "MbAUo1YkQ5F9",
    "nbgrader": {
     "cell_type": "markdown",
     "checksum": "091883ff8ea97008522f6ad4294af1ce",
     "grade": false,
     "grade_id": "cell-e8b9d697ff6494f4",
     "locked": true,
     "schema_version": 3,
     "solution": false
    }
   },
   "source": [
    "### Part 2.4 Expectation\n",
    "\n",
    "We would like to be able to compute the expected location (and search time/distance) for this model. But we can't do a simple operation with a PDF like we could with the PMF model. Instead, we can use sampling methods to approximate the expectation $\\hat{\\mathbb{E}}[f(X)]$.\n",
    "\n",
    "Using the same formula $t = d^2 + 4d + 5$ as in Part 1, use the Monte Carlo approximation to the expectation, with 1000 samples, to compute:\n",
    "\n",
    "* `cross_expected_location` the expected location  (a 2D vector)\n",
    "* `cross_expected_distance` expected L2 distance from the fixed station at (14,2) \n",
    "* `cross_expected_time`  expected search time in hours from this station.\n",
    "\n",
    "with a cross distribution having the parameters:\n",
    "    \n",
    "        ctr = (7,10)\n",
    "        span = 0.5\n",
    "        leg = 7.0\n",
    "        angle = 45.0\n"
   ]
  },
  {
   "cell_type": "code",
   "execution_count": null,
   "metadata": {
    "deletable": false,
    "id": "h-IBU2xpQ5F-",
    "nbgrader": {
     "cell_type": "code",
     "checksum": "15ce3878fe3bd09a8456d161f5ff7752",
     "grade": false,
     "grade_id": "cell-722643728d318052",
     "locked": false,
     "schema_version": 3,
     "solution": true
    }
   },
   "outputs": [],
   "source": [
    "# Seed\n",
    "np.random.seed(2023) # DO NOT CHANGE\n",
    "##########################\n",
    "\n",
    "# YOUR CODE HERE\n",
    "raise NotImplementedError()"
   ]
  },
  {
   "cell_type": "code",
   "execution_count": null,
   "metadata": {
    "colab": {
     "base_uri": "https://localhost:8080/",
     "height": 0
    },
    "deletable": false,
    "editable": false,
    "id": "s-fG2zTbQ5F_",
    "nbgrader": {
     "cell_type": "code",
     "checksum": "ed25bf4a37bf7dd144c5a4225d1a7fa3",
     "grade": true,
     "grade_id": "cell-c560d8f5f50b05bf",
     "locked": true,
     "points": 1,
     "schema_version": 3,
     "solution": false
    },
    "outputId": "74781485-6afd-42c3-afe0-38d9f4ae3215"
   },
   "outputs": [],
   "source": [
    "with tick.marks(1):\n",
    "    assert check_scalar(np.sum(cross_expected_location), '0xba7e9b1', tol=1)\n"
   ]
  },
  {
   "cell_type": "code",
   "execution_count": null,
   "metadata": {
    "colab": {
     "base_uri": "https://localhost:8080/",
     "height": 0
    },
    "deletable": false,
    "editable": false,
    "id": "J5aBy_pgQ5GA",
    "nbgrader": {
     "cell_type": "code",
     "checksum": "3aa7ed2ef406cc79388ab0a2cd438eaa",
     "grade": true,
     "grade_id": "cell-59c42c1b8f79aad6",
     "locked": true,
     "points": 2,
     "schema_version": 3,
     "solution": false
    },
    "outputId": "257ee768-3d26-40f1-e517-56b082316572"
   },
   "outputs": [],
   "source": [
    "with tick.marks(2):\n",
    "    assert check_scalar(cross_expected_distance, '0x84e71c11', tol=1)\n",
    "\n",
    "    "
   ]
  },
  {
   "cell_type": "code",
   "execution_count": null,
   "metadata": {
    "colab": {
     "base_uri": "https://localhost:8080/",
     "height": 0
    },
    "deletable": false,
    "editable": false,
    "id": "hSXDUpmaQ5GA",
    "nbgrader": {
     "cell_type": "code",
     "checksum": "6a04fde0beca07af71f86b7441deadd7",
     "grade": true,
     "grade_id": "cell-61111a5f8a1052b7",
     "locked": true,
     "points": 5,
     "schema_version": 3,
     "solution": false
    },
    "outputId": "8769b388-3c61-4a3e-fc20-af5d375337dc"
   },
   "outputs": [],
   "source": [
    "# Hidden test cross_expected_time [5]"
   ]
  },
  {
   "cell_type": "markdown",
   "metadata": {
    "deletable": false,
    "editable": false,
    "id": "gNm5C8_wQ5GA",
    "nbgrader": {
     "cell_type": "markdown",
     "checksum": "5b186d866aefc4d74f19e2d095d90774",
     "grade": false,
     "grade_id": "cell-b6ef999aec126394",
     "locked": true,
     "schema_version": 3,
     "solution": false,
     "task": false
    }
   },
   "source": [
    "---"
   ]
  },
  {
   "cell_type": "markdown",
   "metadata": {
    "deletable": false,
    "editable": false,
    "id": "Av7fl7d7Q5GA",
    "nbgrader": {
     "cell_type": "markdown",
     "checksum": "9aca98eeff5486f70f3d706862afc28c",
     "grade": false,
     "grade_id": "cell-f9c1ca08f96eb7a7",
     "locked": true,
     "schema_version": 3,
     "solution": false,
     "task": false
    }
   },
   "source": [
    "## Part 2.5 Estimating parameters by optimising the likelihood \n",
    "*Note* this is the difficult and challenging part of this lab."
   ]
  },
  {
   "cell_type": "markdown",
   "metadata": {
    "deletable": false,
    "editable": false,
    "id": "D8S5FANQQ5GA",
    "nbgrader": {
     "cell_type": "markdown",
     "checksum": "a66b1430ec5bc5114c41ce720305225d",
     "grade": false,
     "grade_id": "cell-22eb98dac88cf229",
     "locked": true,
     "schema_version": 3,
     "solution": false
    }
   },
   "source": [
    "There is no direct form to compute the parameters  `ctr`, `span`, `leg` and `angle` from `submarine_observations` in the way we could for the simple normal distribution. \n",
    "\n",
    "We can instead exploit the idea of maximum likelihood which aims to make inferences abou tthe parameters that where most likely to generate the observations. Recall that we have the likelihood of a single observation under the model\n",
    "\n",
    "$$\\mathcal L(\\theta;\\vec{x}) = f_X(\\vec{x};\\theta)$$\n",
    "\n",
    "where $\\theta$ are the parameters `ctr`, `span`, `leg` and `angle` and $\\vec{x}$ is one of the 2d observations in `submarine_observations`.\n",
    "\n",
    "If we assume our observations are independent and identically distributed, we can define an **objective function** for all observations, namely the product of the individual likelihood terms\n",
    "\n",
    "$$\\mathcal{L}(\\theta ;{\\{ {x_i}\\} ^{i = 1:n}}) = -\\prod\\limits_{i = 1}^n {\\mathcal{L}(\\theta ;{x_i})} $$\n",
    "\n",
    "If we take the log (perhaps to achieve greater numerical stability) and futher more take the negative value (as maximiseing the likelihood, is equivalent to minimiseing the negative likelihood), we get the following optimisation problem:\n",
    "\n",
    "$$\\theta^* = \\argmin_\\theta L(\\theta)$$\n",
    "$$L(\\theta) = -\\log \\mathcal{L}(\\theta | x_1, \\dots, x_n) = -\\sum_i \\log f_X(x_i;\\theta) , $$\n",
    "\n",
    "This is *very* similar to the approximation objective function we saw in the optimisation part of this course $\\|f(\\vec{x};\\theta)-y\\|$, but we have $y=0$ and we only have a scalar output from $f$ so the norm is unnecessary. We already know how to solve this kind of problem; just optimise. This is called **maximum likelihood estimation** and is a general technique for determining parameters of a distribution which we don't know given some observations. It will find the **best** setting of parameters that would explain how the observations came to be.\n",
    "\n",
    "\n",
    "Using your own custom  **stochastic hill-climbing** (you can find code in the optimisation lab) and the idea of **maximum likelihood**, create a function `optimise_llik` to find the best parameter settings `theta= [ctr_x, ctr_y, span, leg, angle]` given the observations in `submarine_observations`. The signature of the function is given in the cell below.\n",
    "\n",
    "In the specific setting we also know that; \n",
    "\n",
    "* `ctr` must be a vector in [0,0] to [16,16], \n",
    "* `span` must be a scalar in range 0.0 to 20.0\n",
    "* `leg` must be a scalar from 0.0 to 10.0\n",
    "* `angle` must be a scalar from 0.0 to 45.0 \n",
    "\n",
    "which must be accounted for in your optimisation routine to find a best-fit estimate for `theta`. **Solutions not obeying the constraints will result in zero marks.**\n",
    "\n",
    "You should be able to find a good fit within 10,000 iterations (max 15000). You will need to modify the stochastic hill climbing code to enforce the above constraints and ensure that you algorithm converges to a sensible solution by inspecting the plots and parameters. You may need to change the random seed and various parameters to arrive at a sensible solution.\n",
    "\n",
    "**Note: We will test your solution on multiple instances so you cannot hardcode the solution. We will NOT accept solutions using any in-built optimization functions.**\n"
   ]
  },
  {
   "cell_type": "code",
   "execution_count": null,
   "metadata": {
    "deletable": false,
    "id": "vQdz5ca0Q5GB",
    "nbgrader": {
     "cell_type": "code",
     "checksum": "251df09d3e48d1e3cf92100bb247e561",
     "grade": false,
     "grade_id": "cell-4afa80dd08e79f3c",
     "locked": false,
     "schema_version": 3,
     "solution": true
    }
   },
   "outputs": [],
   "source": [
    "# Use this cell for implementing all your helper functions \n",
    "\n",
    "# YOUR CODE HERE\n",
    "raise NotImplementedError()\n"
   ]
  },
  {
   "cell_type": "code",
   "execution_count": null,
   "metadata": {
    "deletable": false,
    "nbgrader": {
     "cell_type": "code",
     "checksum": "aa1b19271222943d6cda05314bbcda59",
     "grade": false,
     "grade_id": "cell-22231c943f246b24",
     "locked": false,
     "schema_version": 3,
     "solution": true,
     "task": false
    }
   },
   "outputs": [],
   "source": [
    "def optimise_llik(observations,pdf,iters):\n",
    "    \"\"\"\n",
    "        observations: a numpy array with the observations (e.g submarine_observations)\n",
    "        pdf: the PDF (e.g. CrossDistribution)\n",
    "        iters: number of iterations   \n",
    "        \n",
    "        Note: you would likely need to implement a number of helper functions in the cell above.\n",
    "    \"\"\"\n",
    "    # YOUR CODE HERE\n",
    "    raise NotImplementedError()\n",
    "    return theta # return the found parameters\n"
   ]
  },
  {
   "cell_type": "markdown",
   "metadata": {
    "deletable": false,
    "editable": false,
    "id": "qWjHatFlQ5GB",
    "nbgrader": {
     "cell_type": "markdown",
     "checksum": "4880606c53c932431c3cfe073288e84e",
     "grade": false,
     "grade_id": "cell-f25379d284c86032",
     "locked": true,
     "schema_version": 3,
     "solution": false
    }
   },
   "source": [
    "Run the implemented optimisation function on the submarine_observations using the CrossDistribution. You can change the random seed and number of iterations (**max 15000 iterations**!)."
   ]
  },
  {
   "cell_type": "code",
   "execution_count": null,
   "metadata": {
    "deletable": false,
    "nbgrader": {
     "cell_type": "code",
     "checksum": "eb689b7ac73ae0c337235977694192e1",
     "grade": false,
     "grade_id": "cell-0645e297d97a2e3a",
     "locked": false,
     "schema_version": 3,
     "solution": true,
     "task": false
    }
   },
   "outputs": [],
   "source": [
    "# Note these values will be used in the test so make sure \n",
    "# they reflect you ideal configuration upon submission\n",
    "my_random_seed = 2019\n",
    "iters = 15000\n",
    "# YOUR CODE HERE\n",
    "raise NotImplementedError()"
   ]
  },
  {
   "cell_type": "code",
   "execution_count": null,
   "metadata": {
    "colab": {
     "base_uri": "https://localhost:8080/"
    },
    "deletable": false,
    "editable": false,
    "id": "L0pFUscuQ5GB",
    "nbgrader": {
     "cell_type": "code",
     "checksum": "543658acf39a2f518647cbc27602014a",
     "grade": false,
     "grade_id": "cell-2b35204c0185a3ca",
     "locked": true,
     "schema_version": 3,
     "solution": false
    },
    "outputId": "0b390254-cab5-4731-de6f-26d0c60c641c"
   },
   "outputs": [],
   "source": [
    "np.random.seed(my_random_seed) # you are free to change this if helpful in the previous cell\n",
    "theta = optimise_llik(observations=submarine_observations, pdf=CrossDistribution, iters=iters)\n",
    "print(\"Estimated parameters:\", theta)\n"
   ]
  },
  {
   "cell_type": "markdown",
   "metadata": {
    "deletable": false,
    "editable": false,
    "id": "Q4P96ETzQ5GB",
    "nbgrader": {
     "cell_type": "markdown",
     "checksum": "6766e3a5c71090b977fe37afea016820",
     "grade": false,
     "grade_id": "cell-6db8021539150f63",
     "locked": true,
     "schema_version": 3,
     "solution": false
    }
   },
   "source": [
    "Let us plot the solution. **Hint**: While you don't know the true parameters you can do various inspections/tests to ensure that your solution is sensible before submitting.  "
   ]
  },
  {
   "cell_type": "code",
   "execution_count": null,
   "metadata": {
    "colab": {
     "base_uri": "https://localhost:8080/",
     "height": 527
    },
    "deletable": false,
    "editable": false,
    "id": "gmPAFZuAQ5GC",
    "nbgrader": {
     "cell_type": "code",
     "checksum": "5cd8e19b7d7b4e990392a6a501a2e775",
     "grade": false,
     "grade_id": "cell-2e41c87b03161b3a",
     "locked": true,
     "schema_version": 3,
     "solution": false
    },
    "outputId": "95ed306b-1bd8-4dad-ced7-320a88cbcb9b"
   },
   "outputs": [],
   "source": [
    "cf = CrossDistribution(ctr=(theta[0],theta[1]), span=theta[2], leg=theta[3], angle=theta[4])\n",
    "cf.draw()\n",
    "ax = plt.gca()\n",
    "ax.scatter(submarine_observations[:,0], submarine_observations[:,1], marker='o', color='w', s=2, label=\"Observations\")\n",
    "ax.set_xlim(0,16)\n",
    "ax.set_ylim(0,16)\n",
    "fig_2_5 = plt.gcf() # do not modify\n"
   ]
  },
  {
   "cell_type": "code",
   "execution_count": null,
   "metadata": {
    "colab": {
     "base_uri": "https://localhost:8080/",
     "height": 223
    },
    "deletable": false,
    "editable": false,
    "id": "Z8cZs7_tQ5GC",
    "nbgrader": {
     "cell_type": "code",
     "checksum": "59eafb9b32776d8defea6181e08f0dd7",
     "grade": true,
     "grade_id": "cell-ff92bc567992f105",
     "locked": true,
     "points": 5,
     "schema_version": 3,
     "solution": false
    },
    "outputId": "86876676-ffeb-4682-f397-91e69314d48b"
   },
   "outputs": [],
   "source": [
    "# Hidden auto graded [5 marks]... if your optimiser gets you in the vicinity of the true parameters "
   ]
  },
  {
   "cell_type": "code",
   "execution_count": null,
   "metadata": {
    "colab": {
     "base_uri": "https://localhost:8080/",
     "height": 223
    },
    "deletable": false,
    "editable": false,
    "id": "Smgc8vM-Q5GC",
    "nbgrader": {
     "cell_type": "code",
     "checksum": "5588c0a74e098ce94112ca3dd11f8ee1",
     "grade": true,
     "grade_id": "cell-57a37f6af305c572",
     "locked": true,
     "points": 8,
     "schema_version": 3,
     "solution": false
    },
    "outputId": "2438cebc-519b-48dc-f890-8c2b6608bb2c"
   },
   "outputs": [],
   "source": [
    "# Hidden auto graded [8 marks]... if your optimiser gets you very close to the true parameters"
   ]
  },
  {
   "cell_type": "code",
   "execution_count": null,
   "metadata": {
    "deletable": false,
    "editable": false,
    "id": "koaFO6vOQ5GC",
    "nbgrader": {
     "cell_type": "code",
     "checksum": "cb2a16b6aa4caf792328bc4ec50beeaf",
     "grade": true,
     "grade_id": "cell-62c17163c16eb9f0",
     "locked": true,
     "points": 0,
     "schema_version": 3,
     "solution": false
    }
   },
   "outputs": [],
   "source": [
    "# A hidden cell for use by markers"
   ]
  },
  {
   "cell_type": "markdown",
   "metadata": {
    "deletable": false,
    "editable": false,
    "id": "UjP7XuPTQ5GD",
    "nbgrader": {
     "cell_type": "markdown",
     "checksum": "674705bad9b0399648f59efafceff82a",
     "grade": false,
     "grade_id": "cell-b8ceff22c3c2b533",
     "locked": true,
     "schema_version": 3,
     "solution": false
    }
   },
   "source": [
    "\n",
    "---\n"
   ]
  },
  {
   "cell_type": "markdown",
   "metadata": {
    "deletable": false,
    "editable": false,
    "id": "TO5O3C61Q5GD",
    "nbgrader": {
     "cell_type": "markdown",
     "checksum": "819034820d13eb57a270260b4099c1f5",
     "grade": false,
     "grade_id": "cell-d08d4a75c8006022",
     "locked": true,
     "schema_version": 3,
     "solution": false
    }
   },
   "source": [
    "# Submission on Moodle"
   ]
  },
  {
   "cell_type": "markdown",
   "metadata": {
    "deletable": false,
    "editable": false,
    "id": "DL79SkFoQ5GD",
    "nbgrader": {
     "cell_type": "markdown",
     "checksum": "119950e0be9bed61cc6d5d314d755efd",
     "grade": false,
     "grade_id": "cell-6c7b3819abd32986",
     "locked": true,
     "schema_version": 3,
     "solution": false
    }
   },
   "source": [
    "\n",
    "We will generate the **one** pdf file you'll need to submit along with the notebook:\n",
    "\n",
    "*Note*: you do not need to worry about the formatting etc (that's predetermined)\n"
   ]
  },
  {
   "cell_type": "code",
   "execution_count": null,
   "metadata": {
    "colab": {
     "base_uri": "https://localhost:8080/",
     "height": 93
    },
    "deletable": false,
    "editable": false,
    "id": "-6VOXb_zQ5GD",
    "nbgrader": {
     "cell_type": "code",
     "checksum": "cbf16240cb6e3371b4ea8e2032bf5c18",
     "grade": false,
     "grade_id": "cell-b36e056221228fa7",
     "locked": true,
     "schema_version": 3,
     "solution": false
    },
    "outputId": "1d0b6934-ad48-4036-866e-9acef9b9bb92"
   },
   "outputs": [],
   "source": [
    "## Report generation - YOU MUST YOU RUN THIS CELL !\n",
    "#\n",
    "# Ignore warnings regarding fonts\n",
    "#\n",
    "from matplotlib.backends.backend_pdf import PdfPages\n",
    "\n",
    "# Declaration of originality with system info\n",
    "try:\n",
    "    f = open('uofg_declaration_of_originality.txt','r')\n",
    "    uofg_declaration_of_originality = f.read()\n",
    "except: \n",
    "    uofg_declaration_of_originality = \"uofg_declaration_of_originality not present in cwd\"\n",
    "\n",
    "try:\n",
    "    student_id.lower()\n",
    "except: \n",
    "    student_id=\"NORESPONSE\"\n",
    "try:\n",
    "    student_typewritten_signature.lower()\n",
    "except: \n",
    "    student_typewritten_signature=\"NORESPONSE\"\n",
    "\n",
    "fn = (\"idss_lab3_probability_%s_declaration.pdf\" % (student_id.lower()))\n",
    "fig_dec = plt.figure(figsize=(10, 12)) \n",
    "fig_dec.text(0.1,0.1,(\"%s\\n\\n Student Id %s\\n\\n Typewritten signature: %s\\n\\n UUID System: %s\" % (uofg_declaration_of_originality,student_id, student_typewritten_signature, uuid_system)))\n",
    "    \n",
    "# Combined: \n",
    "fn = (\"idss_lab3_probability_%s_combined_v20232024a.pdf\" % (student_id))\n",
    "pp = PdfPages(fn)\n",
    "pp.savefig(fig_2_5)\n",
    "pp.savefig(fig_dec)\n",
    "pp.close()\n",
    "\n",
    "with tick.marks(0):  # have you generated the combined file...? you don't actually get any credit for this; just confirmation that the file has been generated\n",
    "    assert(os.path.exists(fn))"
   ]
  },
  {
   "cell_type": "markdown",
   "metadata": {
    "deletable": false,
    "editable": false,
    "id": "qrTtsWSHQ5GD",
    "nbgrader": {
     "cell_type": "markdown",
     "checksum": "6faeb889bb1068712636eb9f16a63189",
     "grade": false,
     "grade_id": "cell-c32d892a2f810ab0",
     "locked": true,
     "schema_version": 3,
     "solution": false
    }
   },
   "source": [
    "**You must (for full or partial marks) submit via Moodle:**\n",
    "\n",
    "- this notebook (completed) after \"Restart and rerun all\":\n",
    "    - `idss_lab3_probability_v20232024a.ipynb`\n",
    "    \n",
    "- the combined pdf (autogenerated) containing the relevant figures and answers for the manual marking:\n",
    "     - `idss_lab3_probability_[YOUR STUDENT ID]_combined_v20232024a.pdf`)     "
   ]
  },
  {
   "cell_type": "markdown",
   "metadata": {
    "deletable": false,
    "editable": false,
    "id": "xzlWE_cfQ5GE",
    "nbgrader": {
     "cell_type": "markdown",
     "checksum": "7436c9f8aa2f3b86c17ec7e36bc6b1a3",
     "grade": false,
     "grade_id": "cell-530afe415c5eb50f",
     "locked": true,
     "schema_version": 3,
     "solution": false
    }
   },
   "source": [
    "\n",
    "---"
   ]
  },
  {
   "cell_type": "markdown",
   "metadata": {
    "deletable": false,
    "editable": false,
    "id": "2wuaiqMMQ5GE",
    "nbgrader": {
     "cell_type": "markdown",
     "checksum": "b5d60dd0ad1fe8165cf318b6b31b3401",
     "grade": false,
     "grade_id": "cell-b0ccdfd6f69b03dc",
     "locked": true,
     "schema_version": 3,
     "solution": false
    }
   },
   "source": [
    "# Appendix: Marking Summary (and other metadata)\n",
    "#### - make sure the notebook runs without errors (remove/resolve the `raise NotImplementedError()`) and \"Restart and Rerun All\" cells to get a correct indication of your marks."
   ]
  },
  {
   "cell_type": "code",
   "execution_count": null,
   "metadata": {
    "colab": {
     "base_uri": "https://localhost:8080/",
     "height": 354
    },
    "deletable": false,
    "editable": false,
    "id": "dwCJP8kvQ5GE",
    "nbgrader": {
     "cell_type": "code",
     "checksum": "099dc2c5c42c1e6f131b9a66df945e23",
     "grade": true,
     "grade_id": "cell-1fa128795b30c9c3",
     "locked": true,
     "points": 0,
     "schema_version": 3,
     "solution": false
    },
    "outputId": "af78a3bf-ac90-40e7-d3e0-032a2a1261e6"
   },
   "outputs": [],
   "source": [
    "print(\"Marks total : \",\"100\")\n",
    "print(\"Marks visible (with immediate feedback): \",\"54\")\n",
    "print(\"Marks hidden (without immediate feedback): \",\"46\")\n",
    "print(\"\\nThe fraction below displays your performance on the autograded part of the lab that's visible with feedback (only valid after `Restart and Run all`:\")\n",
    "tick.summarise_marks() # \n",
    "print(\"- the autograded (and visible) marks account for at least 50% of the total lab assesment.\")"
   ]
  },
  {
   "cell_type": "markdown",
   "metadata": {
    "deletable": false,
    "editable": false,
    "id": "PC-WLWsdQ5GE",
    "nbgrader": {
     "cell_type": "markdown",
     "checksum": "62b80f500969c62bc0628a90ad41eea6",
     "grade": false,
     "grade_id": "cell-9a26f6437b8f2a62",
     "locked": true,
     "schema_version": 3,
     "solution": false
    }
   },
   "source": [
    "---"
   ]
  }
 ],
 "metadata": {
  "colab": {
   "collapsed_sections": [
    "glyGvxa-Q5Fo",
    "qe7YF11mQ5Fs",
    "sH7nP3JQQ5Fv",
    "OnkYr9Y2Q5Fy",
    "IJkZcsQSQ5Fz",
    "LOicbXCaQ5F2",
    "6b8KI7oZQ5F3",
    "iHa49ykjQ5F4",
    "CxEQ0Jj5Q5F6",
    "IBxFfB38Q5F6",
    "_x-5T8N2Q5F8",
    "MbAUo1YkQ5F9"
   ],
   "provenance": []
  },
  "kernelspec": {
   "display_name": "Python 3 (ipykernel)",
   "language": "python",
   "name": "python3"
  },
  "language_info": {
   "codemirror_mode": {
    "name": "ipython",
    "version": 3
   },
   "file_extension": ".py",
   "mimetype": "text/x-python",
   "name": "python",
   "nbconvert_exporter": "python",
   "pygments_lexer": "ipython3",
   "version": "3.11.6"
  }
 },
 "nbformat": 4,
 "nbformat_minor": 4
}
