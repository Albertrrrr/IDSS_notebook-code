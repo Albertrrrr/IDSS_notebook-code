{
 "cells": [
  {
   "cell_type": "code",
   "execution_count": 1,
   "metadata": {},
   "outputs": [
    {
     "data": {
      "application/javascript": [
       "$('#menubar').toggle();\n"
      ],
      "text/plain": [
       "<IPython.core.display.Javascript object>"
      ]
     },
     "metadata": {},
     "output_type": "display_data"
    }
   ],
   "source": [
    "%%javascript\n",
    "$('#menubar').toggle();"
   ]
  },
  {
   "cell_type": "markdown",
   "metadata": {},
   "source": [
    "# Introduction to Data Science and Systems 2021-2022\n",
    "\n",
    "## Lecture Week 1: Introduction\n",
    "\n",
    "##### University of Glasgow <small>v20212022a</small>\n",
    "\n",
    "----"
   ]
  },
  {
   "cell_type": "markdown",
   "metadata": {},
   "source": [
    "## Outline:"
   ]
  },
  {
   "cell_type": "markdown",
   "metadata": {},
   "source": [
    " - Part 1: Introduction and motivation\n",
    " - Part 2: Structure and logistic of the course.\n",
    " - Part 3: The basics of data science - a demo"
   ]
  },
  {
   "cell_type": "markdown",
   "metadata": {},
   "source": [
    "By the end of this week you should:\n",
    "\n",
    "* know your lecturer(s) and lab assistant\n",
    "\n",
    "* know the structure of the course (including assessment and schedule)\n",
    "\n",
    "\n",
    "* become familiar with common definition(s) of data science\n",
    "\n",
    "* know the basic steps in data science: load data, identify the data type, perform basic quality control, data cleaning/curation, simple visualizations.\n",
    "\n",
    "* become familiar with Numpy through the self-study and (supervised) labs\n",
    "\n"
   ]
  },
  {
   "cell_type": "code",
   "execution_count": 2,
   "metadata": {},
   "outputs": [
    {
     "data": {
      "text/html": [
       "\n",
       "<script>\n",
       "  function code_toggle() {\n",
       "    if (code_shown){\n",
       "      $('div.input').hide('500');\n",
       "      $('#toggleButton').val('Show Code')\n",
       "    } else {\n",
       "      $('div.input').show('500');\n",
       "      $('#toggleButton').val('Hide Code')\n",
       "    }\n",
       "    code_shown = !code_shown\n",
       "  }\n",
       "\n",
       "  $( document ).ready(function(){\n",
       "    code_shown=false;\n",
       "    $('div.input').hide()\n",
       "  });\n",
       "</script>\n",
       "<form action=\"javascript:code_toggle()\"><input type=\"submit\" id=\"toggleButton\" value=\"Show Code\"></form>"
      ],
      "text/plain": [
       "<IPython.core.display.HTML object>"
      ]
     },
     "execution_count": 2,
     "metadata": {},
     "output_type": "execute_result"
    }
   ],
   "source": [
    "import IPython.display\n",
    "IPython.display.HTML(\"\"\"\n",
    "<script>\n",
    "  function code_toggle() {\n",
    "    if (code_shown){\n",
    "      $('div.input').hide('500');\n",
    "      $('#toggleButton').val('Show Code')\n",
    "    } else {\n",
    "      $('div.input').show('500');\n",
    "      $('#toggleButton').val('Hide Code')\n",
    "    }\n",
    "    code_shown = !code_shown\n",
    "  }\n",
    "\n",
    "  $( document ).ready(function(){\n",
    "    code_shown=false;\n",
    "    $('div.input').hide()\n",
    "  });\n",
    "</script>\n",
    "<form action=\"javascript:code_toggle()\"><input type=\"submit\" id=\"toggleButton\" value=\"Show Code\"></form>\"\"\")"
   ]
  },
  {
   "cell_type": "code",
   "execution_count": 3,
   "metadata": {},
   "outputs": [
    {
     "name": "stderr",
     "output_type": "stream",
     "text": [
      "c:\\python\\Anaconda3_37_201907\\lib\\site-packages\\IPython\\kernel\\__init__.py:13: ShimWarning: The `IPython.kernel` package has been deprecated since IPython 4.0.You should import from ipykernel or jupyter_client instead.\n",
      "  \"You should import from ipykernel or jupyter_client instead.\", ShimWarning)\n"
     ]
    }
   ],
   "source": [
    "# standard imports\n",
    "import numpy as np\n",
    "import matplotlib as mpl\n",
    "import matplotlib.pyplot as plt\n",
    "%matplotlib inline\n",
    "plt.rc('figure', figsize=(10.0, 8.0), dpi=140)\n",
    "from jhwutils.matrices import show_matrix_effect, print_matrix\n",
    "from jhwutils import ellipse as ellipse"
   ]
  },
  {
   "cell_type": "markdown",
   "metadata": {},
   "source": [
    "---"
   ]
  },
  {
   "cell_type": "markdown",
   "metadata": {},
   "source": [
    "----"
   ]
  },
  {
   "cell_type": "markdown",
   "metadata": {},
   "source": [
    "# Part 1: What is data science and systems ?"
   ]
  },
  {
   "cell_type": "markdown",
   "metadata": {},
   "source": [
    "### Data is transforming the world!\n",
    "\n",
    ">\n",
    "> **Technology trends:**\n",
    "> <small>(adapted from J. Gonzales)</small>\n",
    ">\n",
    "> - 1940-1980s: Hardware - building digital computers\n",
    "> - 1990s: Software industry (developing increasingly more complex software)\n",
    "> - 2000s: Internet industry (online retailing and services)\n",
    ">    - At the same time: Mobile devices\n",
    "> - 2010s: Data industry (sell, buy and share information about people and objects) \n",
    ">    - At the same time: AI revolution\n",
    "> - 2020s: ?\n",
    "\n",
    "\n",
    "\n",
    "**Examples:**\n",
    "> - Universities: UofG collects data about students such as attendance and grades to support students and ensure quality of our degree programmes and individual courses. Some of this data is subjective and collected by asking you - the students - questions about your perceived quality of a course or perceived difficulty. Other types of data is objective i.e. attendance, activity level on Moodle etc. \n",
    "> <img src=\"imgs/moodle.png\" width= 80%><center>[Source: [Moodle](https://moodle.gla.ac.uk/course/view.php?id=18407)]</center>\n",
    ">\n",
    "> - [Amazon](https://www.amazon.com/gp/help/customer/display.html?nodeId=GE4KRSZ4KAZZB4BV#:~:text=We%20make%20recommendations%20based%20on,interest%20you%20in%20Your%20Amazon.): When you buy a book on Amazon they record not only your purchase but also you interest (e.g. through searches) or disinterest in other produces. \n",
    "> <img src=\"imgs/amazon.png\" width= 40%><center>[Source: [Amazon](https://amazon.com)]</center>\n",
    ">\n",
    "> - [Politics](https://en.wikipedia.org/wiki/Facebook%E2%80%93Cambridge_Analytica_data_scandal): Politicians use data collected on e.g. Facebook for target political advertisement. \n",
    "> <img src=\"imgs/bcc-analytica.png\" width= 40%><center>[Source: [BBC](https://www.bbc.com/news/technology-51799738)]</center>\n",
    ">\n",
    "> - Dating sites: Dating sites ask you 100s of personal questions with the promise that they can find the perfect partner for you (others just show a picture...).\n",
    "> \n",
    ">\n",
    "> - [Covid tracking](https://www.gov.scot/news/protect-scotland-app-launches/): Many countries have launched Covid tracking apps which informs you if you have been in the vicinity of an infected person. \n",
    "> <img src=\"imgs/covidapp.jpg\" width= 40%>\n",
    ">\n",
    "\n",
    "<br>\n",
    "<br>\n",
    "<br>\n",
    "\n",
    "### Is data all you need?\n",
    "**Data science** an highly interdisciplinary activity concerned with gaining insights from often large and messy data which you sometimes have to collect, store and curate yourself. It is the application of data centric, computer science, and inferential thinking to understand the world (science) and solve problems (engineering).\n",
    "\n",
    "<img src=\"imgs/Data_Science_VD.png\"> \n",
    "<center>[Source: Drew Conway 2010]. Warning: There are many variations of this figure (not all sensible).</center>\n",
    "\n",
    "<br>\n",
    "<br>\n",
    "<br>\n",
    "\n",
    "\n",
    "Example of questions we might try to answer with data science:\n",
    "- How much exercise did you get in 2020?\n",
    "- Is the use of the [COMPAS](https://en.wikipedia.org/wiki/COMPAS_(software)) algorithm for prison sentencing in the US fair?\n",
    "- How will Brexit influence the UK economy?\n",
    "- What should we eat to maximize our live expectancy?\n",
    "- Who should get a COVID-19 vaccine first?\n",
    "- Has the world gotten better or worse over the last 10 years (on average)?\n",
    "- Will there be a forth wave of COVID19 in the UK?\n",
    "\n"
   ]
  },
  {
   "cell_type": "markdown",
   "metadata": {},
   "source": [
    "----"
   ]
  },
  {
   "cell_type": "markdown",
   "metadata": {},
   "source": [
    "\n",
    "## Example: Covid-19 cases in the UK\n",
    "<br>\n",
    "\n",
    "<img src=\"imgs/covid19-patterns.png\"> \n",
    "*[Source: [Daily Covid cases from OutWorldInData, CC BY](https://ourworldindata.org/coronavirus-data-explorer)]*\n",
    "\n",
    "\n",
    "[Interactive version](https://ourworldindata.org/coronavirus-data-explorer?zoomToSelection=true&time=2020-03-01..2020-07-21&country=~GBR&region=World&casesMetric=true&interval=daily&perCapita=true&smoothing=0&pickerMetric=total_cases&pickerSort=desc)\n",
    "\n",
    "\n",
    "<br>\n",
    "<br>\n",
    "<br>\n",
    "\n",
    "#### Question: Why does the number of cases drop on certain days? \n",
    "(consider what kind of information and knowledge you would need to answer this question)\n",
    "\n",
    "<br>\n",
    "<br>\n",
    "<br>\n",
    "\n",
    "<br>\n",
    "<br>\n",
    "<br>"
   ]
  },
  {
   "cell_type": "markdown",
   "metadata": {},
   "source": [
    "---"
   ]
  },
  {
   "cell_type": "markdown",
   "metadata": {},
   "source": [
    "## Data science and systems overview"
   ]
  },
  {
   "cell_type": "markdown",
   "metadata": {},
   "source": [
    "<img src=\"imgs/overview.png\"> \n",
    "\n",
    "<br>\n",
    "<br>\n",
    "<br>\n",
    "<br>"
   ]
  },
  {
   "cell_type": "markdown",
   "metadata": {},
   "source": [
    "\n",
    "\n",
    "### Question \n",
    "\\-***why do you want to (or why did you) collect/analyse the data?***\n",
    ">\n",
    "> a) Problem solving (engineering): E.g. recommender systems, student support, Covid tracking.\n",
    ">\n",
    "> b) Understand the world (science). E.g. biological image analysis, human behavior.\n",
    ">\n",
    "> c) Don't know (yet): Collecting data without a specific goal is not uncommon expecting a later need or question to present itself. \n",
    ">"
   ]
  },
  {
   "cell_type": "markdown",
   "metadata": {},
   "source": [
    "### Data acquisition\n",
    "\\-***how do we (or did we) obtain the data - and in a robust and fair manner?***\n",
    ">\n",
    "> Given a specific question of interest, a key challenge is how to obtain the required data which would allow you to answer the question. This involves asking the right question to the right people - or measuring the correct physical signal using the correct sensor.\n",
    ">\n",
    "> Many premature or even wrong conclusions have made due to biased dataset, faulty data, wrong sampling or other issues with basic data acquisition.\n",
    ">\n",
    ">\n",
    "> **Experimental design**: There is an entire discipline in statistics dedicated to the design of experiments to make sure the data is obtained and collected in a fair and robust manner. For example: how do you designs polls for election polls to query a representative sample of the population (hint: there is room for improvement). \n",
    ">\n",
    "> **Provenance**: As a data scientists you should ideally know where the data came from and if/how it has been pre-processed before you got your hands on it!\n",
    ">\n",
    "\n"
   ]
  },
  {
   "cell_type": "markdown",
   "metadata": {},
   "source": [
    "### Data storage\n",
    "\\- ***how do you store the data so it is secure and easily accessible?***\n",
    ">\n",
    "> - **Security**\n",
    ">\n",
    "> - **Accessibility**\n",
    ">\n",
    "> - **Efficiency**\n",
    ">"
   ]
  },
  {
   "cell_type": "markdown",
   "metadata": {},
   "source": [
    "###  Data curation, quality control and exploration (\"understanding the data\")\n",
    "\\- ***what's the data type, are there mistakes, are there missing data or other issues that needs to be addressed now (or perhaps in the data acquisition process)***\n",
    ">\n",
    "> **Exploration:**\n",
    "> - What does the data represent represent and how is it represented?\n",
    ">\n",
    "> - What data types are in the dataset (perhaps you already know this if you collected the dataset)? This includes the structure structure, data types of columns and the granularity of rows in the dataset.\n",
    ">  - Numerical data, which represents amounts or quantities. For example: temperature, price, and height.\n",
    ">  - Nominal data, which represents categories that do not have a natural ordering. For example: political party affiliation (Labor, Conservative, SNP), mood (happy, sad), and country (UK, US, China).\n",
    ">  - Ordinal data, which represents ordered categories. For example: Shirt sizes (small, medium, large), Likert-scale responses (disagree, neutral, agree), and level of education (high school, university, graduate school). \n",
    ">  - Temporal: E.g. dates, timestamps, time series.\n",
    ">  - Freetext which represents comments, tags etc\n",
    ">  - ...\n",
    ">\n",
    "> - Summary statistics: The distributions of qualitative and quantitative data (e.g. measures of center and spread).\n",
    ">\n",
    "> - Relationships between quantities in the dataset (basic correlation and visualisation).\n",
    "> \n",
    ">\n",
    "> **Quality and curation**\n",
    ">\n",
    "> Many real-world dataset often contain \"messy\", missing or faulty data which must be accounted for before processing to the next steps. A few common examples include:\n",
    "> - Incorrect or unrealistic values. For example, dates in the future, colours that don’t exist, negative counts, or large outliers.\n",
    ">\n",
    "> - Violations of obvious dependencies: For example, age and birthday don’t match.\n",
    ">\n",
    "> - Data provided by humans: These are typically filled with spelling errors and inconsistencies.\n",
    ">\n",
    "> - Data falsification or adversarial attacks \n",
    ">\n",
    "> - Missing data\n",
    ">\n",
    "> - **Key rule**: All steps involved in modifying or augmenting the dataset must be clearly documented and justified.\n",
    ">\n",
    ">\n",
    "> **Preparation**\n",
    "> - Feature extraction: Many domains rely on expert knowledge to extract. E.g. in analysing speech we often extract socalled cepstral coefficients which represents what is being said without capturing the charateristics of the speaker (e.g. female vs male).\n",
    ">\n",
    "> - Transformations: Transform the data to be. For example: Reduce the dimensionality of numerical data, transform a sentence in to a bag-of-words.\n",
    ">\n",
    ">\n",
    "> - **Key rule**: All steps involved in pre-processing/preparing the data must be documented.\n",
    ">\n",
    "> **Visualization**\n",
    "> - Visualisation is a essential components of modern data science from undersatnding the data, cleaning it, displaying the results and prediction to finally communication the result of the whole analysis. \n",
    "> "
   ]
  },
  {
   "cell_type": "markdown",
   "metadata": {},
   "source": [
    "### Modelling & Inference\n",
    "\\- ***how do we find patterns and trends in the data which allows us to make inferences and predictions about the world?*** \n",
    ">\n",
    "> *Essentially, all models are wrong, but some are useful.* George Box (1919-2013)\n",
    ">\n",
    "> A model is an *idealised* representation of for example the world, a system or a person which can be used to do prediction, estimation and description. For example a model of the world is the [differentiation equations governing the trajectory of particle](https://en.wikipedia.org/wiki/Trajectory), e.g. the path that an call with mass in motion follows through space as a function of time.  \n",
    ">\n",
    ">\n",
    "> In a data science context a model is learned (at least to some degree) from the available data. This process results in an approximation which might be useful if the the approximation is reasonable precise. For example: predicting the popularity of a a baby name based on previous years popularity.\n",
    ">\n",
    ">\n",
    "> A typically modelling process often looks like (many of you will explore this further in the ML&AI course):\n",
    ">> 1. Select a model (e.g. a linear model mapping from year to the frequency of a baby name).\n",
    ">> 2. Select a loss function.\n",
    ">> 3. Fit the model by minimizing the loss using numerical optimization.\n",
    ">> 4. Evaluate the results in terms of generalization error (visualization, etc)\n",
    ">> - ... repeat if needed\n",
    ">"
   ]
  },
  {
   "cell_type": "markdown",
   "metadata": {},
   "source": [
    "### Evaluation\n",
    "\\-***where we produce the visualisaiton and reports, and provide objective observations on the findings in light of the data, data pre-processing and models***\n",
    ">\n",
    "> - Visualisation\n",
    "> - Descriptions \n",
    "> - Critical reflection \n",
    ">\n"
   ]
  },
  {
   "cell_type": "markdown",
   "metadata": {},
   "source": [
    "### Results & Interpretation\n",
    "\\-***where we present the factual results and interpretations to decision-makers***\n",
    "> \n",
    "> Traditionally, data science is often about presenting clear and objective results and findings to decision-makes, who - based on your findings - will make a decision. This distinction is blurred and becoming increasingly vauge as data science as a whole starts considering and accounting for the consequences of the recommendations (e.g. decision-theory).\n"
   ]
  },
  {
   "cell_type": "markdown",
   "metadata": {},
   "source": [
    "---"
   ]
  },
  {
   "cell_type": "markdown",
   "metadata": {},
   "source": [
    "---"
   ]
  },
  {
   "cell_type": "markdown",
   "metadata": {},
   "source": [
    "# Part 2: Structure and logistics of IDSS"
   ]
  },
  {
   "cell_type": "markdown",
   "metadata": {},
   "source": [
    "### Focus of this course\n",
    "\n",
    "\n",
    "#### Mathematical foundations using Python:\n",
    ">- Vector spaces (data representation)\n",
    ">- Computational linear algebra (e.g. PCA/SVD)\n",
    ">- Optimisation\n",
    ">- Probability (the basics and inference)\n",
    "\n",
    "#### Data storage:\n",
    ">Aside from built-in Python packages for handling tabular data, we will be presenting core material on:\n",
    ">- (Databases)\n",
    ">- Indexing \n",
    ">- Querying\n"
   ]
  },
  {
   "cell_type": "markdown",
   "metadata": {},
   "source": [
    "\n",
    "#### Other skills\n",
    ">- Numpy (in detail) and Pandas (self-study / recommended material)\n",
    ">- Visualization\n",
    ">- Critical analysis and reflection\n",
    ">- Practical with a real-world data science case\n",
    "\n"
   ]
  },
  {
   "cell_type": "markdown",
   "metadata": {},
   "source": [
    "**The course is not**: Machine learning, artificial intelligence, a \"tools course\" teaching you specific data science systems ."
   ]
  },
  {
   "cell_type": "markdown",
   "metadata": {},
   "source": [
    "---"
   ]
  },
  {
   "cell_type": "markdown",
   "metadata": {},
   "source": [
    "- **Credits and workload**: \n",
    " - The course is a 15 credit course which amounts to about 150 hours of work. \n",
    "\n",
    "\n",
    "- **Lectures** (Tuesdays and some Fridays in week 8-10)\n",
    " - Zoom. Recordings of the live or pre-recorded material will typically be provided as Zoom/MS Streams\n",
    "\n",
    "\n",
    "- **Lab sessions** (Fridays and one Tuesday in Week 11)\n",
    " - You will be allocated to a 1h group on MS Teams where you can interact with and the allocated lab assistant and your teams mates. You can find the Lab instructions (and deadlines) on Moodle.\n",
    " - Peer support: Please be active in the MS Team groups and answer each other questions etc.\n",
    "\n",
    "\n",
    "- **Assessment**\n",
    " - Labs (4 labs, each worth 6% of the final grade, recommend effort is 9h each) - deadlines posted on Moodle. \n",
    "   - Labs are typically due two weeks after hand-out (see Moodle / LTC system for details).\n",
    " - Weekly quizzes (10 quizzes, 6% in total, top 80% counts, i.e. you can drop two quizzes and still get top mark)\n",
    " - Exam, written 2 hour in April/May.\n",
    " \n",
    " \n",
    "- **Material**. \n",
    "    - A lecture notes (e.g. interactive notebooks, slides) with references to additional/supporting material. \n",
    "    - Explore on your own! There are many excellent source of information on the internet and we strongly encourage you to read outside the predefined curriculum.  \n",
    " \n",
    " \n",
    "**A note on marking and effort:** The suggested 9 hours for each assessed lab is the time we expect you to spend on the lab (effective work hours) to get the grade you would normally get in a similar course. An A1 (top grade) student should spend 9h getting an A1, a B2 (average) student should spend 9h getting a B2, etc.\n",
    " \n",
    "**A note on plagiarism:** Don't do it! We automatically check all submissions against each other - and we are good at finding patterns. If you find yourself in a situation where copying other peoples work is the only option then reach out to the teaching staff on the course and we can help/guide you.\n",
    "\n",
    "\n",
    "**A heads up:** We will be monitoring and analysing the progress throughout the 11 weeks - we are data scientists after all! We might make changes to the schedule as we go along based on your feedback and our observations.\n",
    "\n"
   ]
  },
  {
   "cell_type": "markdown",
   "metadata": {},
   "source": [
    "---"
   ]
  },
  {
   "cell_type": "markdown",
   "metadata": {},
   "source": [
    "----"
   ]
  },
  {
   "cell_type": "markdown",
   "metadata": {},
   "source": [
    "# Part 3: Data Science basics - *by example*"
   ]
  },
  {
   "cell_type": "markdown",
   "metadata": {},
   "source": [
    "We will go through a simple data science example in Python to demonstrate the following aspects of data science:\n",
    "- Question formulation \n",
    "- Data acquisition \n",
    "- Data storage and access\n",
    "- Data curation and preparation \n",
    "    - Quality control\n",
    "    - Curating (/cleaning)\n",
    "    - Visualization\n",
    "- Basic modelling \n",
    "- Evaluation \n",
    "- Results & Conclusion\n",
    "\n",
    "[A Juputer notebook will be presented during the lecture]"
   ]
  },
  {
   "cell_type": "code",
   "execution_count": null,
   "metadata": {},
   "outputs": [],
   "source": []
  },
  {
   "cell_type": "code",
   "execution_count": null,
   "metadata": {},
   "outputs": [],
   "source": []
  },
  {
   "cell_type": "code",
   "execution_count": null,
   "metadata": {},
   "outputs": [],
   "source": []
  },
  {
   "cell_type": "code",
   "execution_count": null,
   "metadata": {},
   "outputs": [],
   "source": []
  },
  {
   "cell_type": "code",
   "execution_count": null,
   "metadata": {},
   "outputs": [],
   "source": []
  }
 ],
 "metadata": {
  "kernelspec": {
   "display_name": "Python 3",
   "language": "python",
   "name": "python3"
  },
  "language_info": {
   "codemirror_mode": {
    "name": "ipython",
    "version": 3
   },
   "file_extension": ".py",
   "mimetype": "text/x-python",
   "name": "python",
   "nbconvert_exporter": "python",
   "pygments_lexer": "ipython3",
   "version": "3.8.3"
  },
  "toc": {
   "nav_menu": {},
   "number_sections": true,
   "sideBar": true,
   "skip_h1_title": false,
   "toc_cell": false,
   "toc_position": {
    "height": "998px",
    "left": "0px",
    "right": "1740px",
    "top": "93px",
    "width": "180px"
   },
   "toc_section_display": "block",
   "toc_window_display": false
  }
 },
 "nbformat": 4,
 "nbformat_minor": 1
}
